{
 "cells": [
  {
   "cell_type": "markdown",
   "id": "5faf44d7-06df-4fc2-a5f7-9376ab9a03b2",
   "metadata": {},
   "source": [
    "# 2 Azure Maps Geocoding and Reverse Geocoding\n",
    "\n",
    "https://azure.microsoft.com/en-us/products/azure-maps/?msockid=2e39c66c693c66a5151fd200687567d0\n",
    "\n",
    "https://learn.microsoft.com/en-us/azure/azure-maps/"
   ]
  },
  {
   "cell_type": "code",
   "execution_count": 1,
   "id": "3d17ad9f-494d-4505-bcda-7a0cf4d2ce00",
   "metadata": {},
   "outputs": [],
   "source": [
    "import datetime\n",
    "import folium\n",
    "import os\n",
    "import pandas as pd\n",
    "import requests\n",
    "import sys\n",
    "\n",
    "from dotenv import load_dotenv\n",
    "from IPython.display import IFrame, FileLink\n",
    "from typing import List, Dict, Tuple"
   ]
  },
  {
   "cell_type": "markdown",
   "id": "eaad9cbc-d5e2-4f5b-9b02-7e209f93cbb8",
   "metadata": {},
   "source": [
    "## Settings"
   ]
  },
  {
   "cell_type": "code",
   "execution_count": 2,
   "id": "b07d4a54-28ca-4c76-9cbf-c2034b184c37",
   "metadata": {},
   "outputs": [
    {
     "data": {
      "text/plain": [
       "'3.10.14 (main, May  6 2024, 19:42:50) [GCC 11.2.0]'"
      ]
     },
     "execution_count": 2,
     "metadata": {},
     "output_type": "execute_result"
    }
   ],
   "source": [
    "sys.version"
   ]
  },
  {
   "cell_type": "code",
   "execution_count": 3,
   "id": "46362d08-9337-4028-9576-3452714f4b4f",
   "metadata": {},
   "outputs": [
    {
     "name": "stdout",
     "output_type": "stream",
     "text": [
      "Today is 01-Sep-2025 15:04:15\n"
     ]
    }
   ],
   "source": [
    "print(f\"Today is {datetime.datetime.today().strftime('%d-%b-%Y %H:%M:%S')}\")"
   ]
  },
  {
   "cell_type": "code",
   "execution_count": 4,
   "id": "04537661-602a-4785-8ffa-846fe5b0f271",
   "metadata": {},
   "outputs": [
    {
     "data": {
      "text/plain": [
       "True"
      ]
     },
     "execution_count": 4,
     "metadata": {},
     "output_type": "execute_result"
    }
   ],
   "source": [
    "load_dotenv(\"azure.env\")"
   ]
  },
  {
   "cell_type": "code",
   "execution_count": 5,
   "id": "f1d2ab2c-26b7-4fd1-beb2-aa7aee1b539f",
   "metadata": {},
   "outputs": [],
   "source": [
    "RESULTS_DIR = \"results\"\n",
    "\n",
    "os.makedirs(RESULTS_DIR, exist_ok=True)"
   ]
  },
  {
   "cell_type": "code",
   "execution_count": 6,
   "id": "96a68a5c-4497-418d-ac25-234060a4f509",
   "metadata": {},
   "outputs": [],
   "source": [
    "class AzureMapsClient:\n",
    "    \"\"\"\n",
    "    Azure Maps API Client for Python\n",
    "    \"\"\"\n",
    "    def __init__(self, subscription_key: str):\n",
    "        \"\"\"\n",
    "        Initialize Azure Maps client\n",
    "        \n",
    "        Args:\n",
    "            subscription_key: Your Azure Maps subscription key\n",
    "        \"\"\"\n",
    "        self.subscription_key = subscription_key\n",
    "        self.base_url = \"https://atlas.microsoft.com\"\n",
    "\n",
    "    def _make_request(self, endpoint: str, params: Dict) -> Dict:\n",
    "        \"\"\"\n",
    "        Make authenticated request to Azure Maps API\n",
    "        \n",
    "        Args:\n",
    "            endpoint: API endpoint\n",
    "            params: Request parameters\n",
    "            \n",
    "        Returns:\n",
    "            API response as dictionary\n",
    "        \"\"\"\n",
    "        params['api-version'] = '1.0'\n",
    "        params['subscription-key'] = self.subscription_key\n",
    "\n",
    "        url = f\"{self.base_url}/{endpoint}\"\n",
    "\n",
    "        try:\n",
    "            response = requests.get(url, params=params)\n",
    "            response.raise_for_status()\n",
    "            return response.json()\n",
    "        except requests.exceptions.RequestException as e:\n",
    "            print(f\"API request failed: {e}\")\n",
    "            return {}"
   ]
  },
  {
   "cell_type": "markdown",
   "id": "846f0b62-414b-4a6d-b796-02298900649b",
   "metadata": {},
   "source": [
    "## Helper"
   ]
  },
  {
   "cell_type": "code",
   "execution_count": 7,
   "id": "cd20cd4f-4546-4157-ab5c-9abf6c212919",
   "metadata": {},
   "outputs": [],
   "source": [
    "class GeocodingDemo:\n",
    "    \"\"\"\n",
    "    Demonstrates Azure Maps geocoding capabilities\n",
    "    \"\"\"\n",
    "    def __init__(self, azure_maps_client):\n",
    "        self.client = azure_maps_client\n",
    "\n",
    "    def geocode_address(self, address: str, country_set: str = None) -> Dict:\n",
    "        \"\"\"\n",
    "        Convert address to coordinates (geocoding)\n",
    "        \n",
    "        Args:\n",
    "            address: Street address to geocode\n",
    "            country_set: ISO 3166-1 country codes to limit search (e.g., \"US,CA\")\n",
    "            \n",
    "        Returns:\n",
    "            Geocoding result\n",
    "        \"\"\"\n",
    "        params = {'query': address, 'limit': 5}\n",
    "\n",
    "        if country_set:\n",
    "            params['countrySet'] = country_set\n",
    "\n",
    "        response = self.client._make_request('search/address/json', params)\n",
    "        return response\n",
    "\n",
    "    def reverse_geocode(self, latitude: float, longitude: float) -> Dict:\n",
    "        \"\"\"\n",
    "        Convert coordinates to address (reverse geocoding)\n",
    "        \n",
    "        Args:\n",
    "            latitude: Latitude coordinate\n",
    "            longitude: Longitude coordinate\n",
    "            \n",
    "        Returns:\n",
    "            Reverse geocoding result\n",
    "        \"\"\"\n",
    "        params = {'query': f\"{latitude},{longitude}\"}\n",
    "\n",
    "        response = self.client._make_request('search/address/reverse/json',\n",
    "                                             params)\n",
    "        return response\n",
    "\n",
    "    def batch_geocode(self, addresses: List[str]) -> List[Dict]:\n",
    "        \"\"\"\n",
    "        Geocode multiple addresses\n",
    "        \n",
    "        Args:\n",
    "            addresses: List of addresses to geocode\n",
    "            \n",
    "        Returns:\n",
    "            List of geocoding results\n",
    "        \"\"\"\n",
    "        results = []\n",
    "        for address in addresses:\n",
    "            result = self.geocode_address(address)\n",
    "            results.append(result)\n",
    "        return results"
   ]
  },
  {
   "cell_type": "code",
   "execution_count": 8,
   "id": "93cf1141-5510-4c55-8e1a-67c3ac559d96",
   "metadata": {},
   "outputs": [],
   "source": [
    "def print_json(data: Dict, indent: int = 2):\n",
    "    \"\"\"Pretty print JSON data\"\"\"\n",
    "    print(json.dumps(data, indent=indent, ensure_ascii=False))\n",
    "\n",
    "\n",
    "def extract_coordinates(result: Dict) -> Tuple[float, float]:\n",
    "    \"\"\"\n",
    "    Extract latitude and longitude from Azure Maps result\n",
    "    \n",
    "    Args:\n",
    "        result: Azure Maps API result object\n",
    "        \n",
    "    Returns:\n",
    "        Tuple of (latitude, longitude)\n",
    "    \"\"\"\n",
    "    if 'position' in result:\n",
    "        pos = result['position']\n",
    "        return pos['lat'], pos['lon']\n",
    "    return None, None"
   ]
  },
  {
   "cell_type": "markdown",
   "id": "c4b484ff-6024-4390-8d68-2573ef79792c",
   "metadata": {},
   "source": [
    "## Examples"
   ]
  },
  {
   "cell_type": "code",
   "execution_count": 9,
   "id": "0b489f8a-6d5d-42fe-9f2f-32279f751f79",
   "metadata": {},
   "outputs": [],
   "source": [
    "azure_maps = AzureMapsClient(os.getenv('AZURE_MAPS_KEY'))"
   ]
  },
  {
   "cell_type": "code",
   "execution_count": 10,
   "id": "715ea336-ba7a-4d5f-bdf8-0f1bc21fab20",
   "metadata": {},
   "outputs": [],
   "source": [
    "geocoding = GeocodingDemo(azure_maps)"
   ]
  },
  {
   "cell_type": "markdown",
   "id": "3ce0d362-e608-4459-9f11-46c203355a8c",
   "metadata": {},
   "source": [
    "### Example 1: Basic geocoding"
   ]
  },
  {
   "cell_type": "code",
   "execution_count": 11,
   "id": "b940d034-6ab2-4b85-8247-8ca267458520",
   "metadata": {},
   "outputs": [
    {
     "name": "stdout",
     "output_type": "stream",
     "text": [
      "Result 1:\n",
      "  Address: 1 Northeast One Microsoft Way, Redmond, WA 98052\n",
      "  Coordinates: 47.641673, -122.125648\n",
      "  Confidence: 1\n",
      "\n"
     ]
    }
   ],
   "source": [
    "address = \"1 Northeast One Microsoft Way, Redmond, WA 98052, USA\"\n",
    "\n",
    "result = geocoding.geocode_address(address)\n",
    "\n",
    "if result and 'results' in result:\n",
    "    for i, res in enumerate(result['results'][:3]):  # Show top 3 results\n",
    "        lat, lon = extract_coordinates(res)\n",
    "        confidence = res.get('score', 'N/A')\n",
    "        formatted_address = res.get('address', {}).get('freeformAddress',\n",
    "                                                       'N/A')\n",
    "\n",
    "        print(f\"Result {i+1}:\")\n",
    "        print(f\"  Address: {formatted_address}\")\n",
    "        print(f\"  Coordinates: {lat}, {lon}\")\n",
    "        print(f\"  Confidence: {confidence}\")\n",
    "        print()"
   ]
  },
  {
   "cell_type": "markdown",
   "id": "a39679fc-61d7-4b20-8654-3928183d3448",
   "metadata": {},
   "source": [
    "### Example 2: Reverse geocoding"
   ]
  },
  {
   "cell_type": "code",
   "execution_count": 12,
   "id": "b557566c-3080-4e43-9232-4fba440972d9",
   "metadata": {},
   "outputs": [
    {
     "name": "stdout",
     "output_type": "stream",
     "text": [
      "Coordinates: 47.641673, -122.125648\n",
      "Reverse geocoded address:\n",
      "  Street: Northeast One Microsoft Way 1\n",
      "  City: Redmond\n",
      "  State: WA\n",
      "  Country: United States\n",
      "  Postal Code: 98052\n"
     ]
    }
   ],
   "source": [
    "if result and 'results' in result and result['results']:\n",
    "    first_result = result['results'][0]\n",
    "    lat, lon = extract_coordinates(first_result)\n",
    "\n",
    "    reverse_result = geocoding.reverse_geocode(lat, lon)\n",
    "\n",
    "    if reverse_result and 'addresses' in reverse_result:\n",
    "        address_info = reverse_result['addresses'][0]['address']\n",
    "        print(f\"Coordinates: {lat}, {lon}\")\n",
    "        print(f\"Reverse geocoded address:\")\n",
    "        print(f\"  Street: {address_info.get('streetName', 'N/A')} {address_info.get('streetNumber', '')}\")\n",
    "        print(f\"  City: {address_info.get('municipality', 'N/A')}\")\n",
    "        print(f\"  State: {address_info.get('countrySubdivision', 'N/A')}\")\n",
    "        print(f\"  Country: {address_info.get('country', 'N/A')}\")\n",
    "        print(f\"  Postal Code: {address_info.get('postalCode', 'N/A')}\")"
   ]
  },
  {
   "cell_type": "markdown",
   "id": "5247ef75-2ebe-4fbc-9e72-d7ebb876d5eb",
   "metadata": {},
   "source": [
    "### Example 3: Batch geocoding"
   ]
  },
  {
   "cell_type": "code",
   "execution_count": 13,
   "id": "11bd4769-2c97-4fca-a846-b8aa09295ce2",
   "metadata": {},
   "outputs": [
    {
     "data": {
      "text/html": [
       "<div>\n",
       "<style scoped>\n",
       "    .dataframe tbody tr th:only-of-type {\n",
       "        vertical-align: middle;\n",
       "    }\n",
       "\n",
       "    .dataframe tbody tr th {\n",
       "        vertical-align: top;\n",
       "    }\n",
       "\n",
       "    .dataframe thead th {\n",
       "        text-align: right;\n",
       "    }\n",
       "</style>\n",
       "<table border=\"1\" class=\"dataframe\">\n",
       "  <thead>\n",
       "    <tr style=\"text-align: right;\">\n",
       "      <th></th>\n",
       "      <th>original_query</th>\n",
       "      <th>formatted_address</th>\n",
       "      <th>latitude</th>\n",
       "      <th>longitude</th>\n",
       "      <th>confidence</th>\n",
       "    </tr>\n",
       "  </thead>\n",
       "  <tbody>\n",
       "    <tr>\n",
       "      <th>0</th>\n",
       "      <td>Paris, France</td>\n",
       "      <td>Paris</td>\n",
       "      <td>48.856895</td>\n",
       "      <td>2.350849</td>\n",
       "      <td>0.954208</td>\n",
       "    </tr>\n",
       "    <tr>\n",
       "      <th>1</th>\n",
       "      <td>Lille, France</td>\n",
       "      <td>Lille</td>\n",
       "      <td>50.631286</td>\n",
       "      <td>3.062753</td>\n",
       "      <td>0.943229</td>\n",
       "    </tr>\n",
       "    <tr>\n",
       "      <th>2</th>\n",
       "      <td>Cabourg, France</td>\n",
       "      <td>Cabourg</td>\n",
       "      <td>49.285925</td>\n",
       "      <td>-0.122589</td>\n",
       "      <td>1.000000</td>\n",
       "    </tr>\n",
       "    <tr>\n",
       "      <th>3</th>\n",
       "      <td>Nice, France</td>\n",
       "      <td>Nice</td>\n",
       "      <td>43.703427</td>\n",
       "      <td>7.266266</td>\n",
       "      <td>1.000000</td>\n",
       "    </tr>\n",
       "    <tr>\n",
       "      <th>4</th>\n",
       "      <td>Bordeaux, France</td>\n",
       "      <td>Bordeaux</td>\n",
       "      <td>44.834995</td>\n",
       "      <td>-0.575495</td>\n",
       "      <td>1.000000</td>\n",
       "    </tr>\n",
       "    <tr>\n",
       "      <th>5</th>\n",
       "      <td>Brighton, UK</td>\n",
       "      <td>Brighton</td>\n",
       "      <td>50.819522</td>\n",
       "      <td>-0.136420</td>\n",
       "      <td>1.000000</td>\n",
       "    </tr>\n",
       "    <tr>\n",
       "      <th>6</th>\n",
       "      <td>Firenze, Italie</td>\n",
       "      <td>Firenze</td>\n",
       "      <td>43.768698</td>\n",
       "      <td>11.256929</td>\n",
       "      <td>0.991207</td>\n",
       "    </tr>\n",
       "  </tbody>\n",
       "</table>\n",
       "</div>"
      ],
      "text/plain": [
       "     original_query formatted_address   latitude  longitude  confidence\n",
       "0     Paris, France             Paris  48.856895   2.350849    0.954208\n",
       "1     Lille, France             Lille  50.631286   3.062753    0.943229\n",
       "2   Cabourg, France           Cabourg  49.285925  -0.122589    1.000000\n",
       "3      Nice, France              Nice  43.703427   7.266266    1.000000\n",
       "4  Bordeaux, France          Bordeaux  44.834995  -0.575495    1.000000\n",
       "5      Brighton, UK          Brighton  50.819522  -0.136420    1.000000\n",
       "6   Firenze, Italie           Firenze  43.768698  11.256929    0.991207"
      ]
     },
     "execution_count": 13,
     "metadata": {},
     "output_type": "execute_result"
    }
   ],
   "source": [
    "sample_addresses = [\n",
    "    \"Paris, France\", \"Lille, France\", \"Cabourg, France\", \"Nice, France\",\n",
    "    \"Bordeaux, France\", \"Brighton, UK\", \"Firenze, Italie\"\n",
    "]\n",
    "\n",
    "batch_results = geocoding.batch_geocode(sample_addresses)\n",
    "\n",
    "# Create DataFrame for results\n",
    "geocoding_data = []\n",
    "for i, result in enumerate(batch_results):\n",
    "    if result and 'results' in result and result['results']:\n",
    "        first_result = result['results'][0]\n",
    "        lat, lon = extract_coordinates(first_result)\n",
    "        formatted_address = first_result.get('address',\n",
    "                                             {}).get('freeformAddress', 'N/A')\n",
    "\n",
    "        geocoding_data.append({\n",
    "            'original_query': sample_addresses[i],\n",
    "            'formatted_address': formatted_address,\n",
    "            'latitude': lat,\n",
    "            'longitude': lon,\n",
    "            'confidence': first_result.get('score', 'N/A')\n",
    "        })\n",
    "\n",
    "df = pd.DataFrame(geocoding_data)\n",
    "df"
   ]
  },
  {
   "cell_type": "markdown",
   "id": "ba241390-f377-4ac2-8325-e13aa3e8e0d2",
   "metadata": {},
   "source": [
    "### Example 4: Create map visualization"
   ]
  },
  {
   "cell_type": "code",
   "execution_count": 14,
   "id": "5adeeca5-9ca1-4c00-9907-edc139ff7eca",
   "metadata": {},
   "outputs": [],
   "source": [
    "def create_geocoding_map(geocoding_results: pd.DataFrame,\n",
    "                         tiles='OpenStreetMap',\n",
    "                         center_coords: Tuple[float, float] = None):\n",
    "    \"\"\"\n",
    "    Create folium map with geocoding results\n",
    "    \n",
    "    Args:\n",
    "        geocoding_results: DataFrame with geocoding results\n",
    "        center_coords: Optional center coordinates for map\n",
    "        \n",
    "    Returns:\n",
    "        Folium map object\n",
    "    \"\"\"\n",
    "    if center_coords is None:\n",
    "        # Calculate center from all points\n",
    "        center_lat = geocoding_results['latitude'].mean()\n",
    "        center_lon = geocoding_results['longitude'].mean()\n",
    "    else:\n",
    "        center_lat, center_lon = center_coords\n",
    "\n",
    "    # Create map\n",
    "    m = folium.Map(location=[center_lat, center_lon],\n",
    "                   zoom_start=5,\n",
    "                   tiles=tiles)\n",
    "\n",
    "    # Add markers for each geocoded location\n",
    "    for _, row in geocoding_results.iterrows():\n",
    "        folium.Marker(\n",
    "            location=[row['latitude'], row['longitude']],\n",
    "            popup=\n",
    "            f\"<b>{row['original_query']}</b><br>{row['formatted_address']}<br>Confidence: {row['confidence']}\",\n",
    "            tooltip=row['original_query'],\n",
    "            icon=folium.Icon(color='red', icon='info-sign')).add_to(m)\n",
    "\n",
    "    return m\n"
   ]
  },
  {
   "cell_type": "code",
   "execution_count": 15,
   "id": "81109c01-1696-49f6-bb83-c43f0fc91012",
   "metadata": {},
   "outputs": [
    {
     "name": "stdout",
     "output_type": "stream",
     "text": [
      "✅ Map saved as results/azure_maps_geocoding_demo.html\n"
     ]
    }
   ],
   "source": [
    "geocoding_map = create_geocoding_map(df, tiles=\"OpenStreetMap\", center_coords=(48.85, 2.35))\n",
    "\n",
    "output_file = os.path.join(RESULTS_DIR, \"azure_maps_geocoding_demo.html\")\n",
    "geocoding_map.save(output_file)\n",
    "print(f\"✅ Map saved as {output_file}\")"
   ]
  },
  {
   "cell_type": "code",
   "execution_count": 16,
   "id": "9c129190-bbfd-4678-8300-4c7659119773",
   "metadata": {},
   "outputs": [
    {
     "data": {
      "text/html": [
       "\n",
       "        <iframe\n",
       "            width=\"800\"\n",
       "            height=\"600\"\n",
       "            src=\"results/azure_maps_geocoding_demo.html\"\n",
       "            frameborder=\"0\"\n",
       "            allowfullscreen\n",
       "            \n",
       "        ></iframe>\n",
       "        "
      ],
      "text/plain": [
       "<IPython.lib.display.IFrame at 0x7f31249df280>"
      ]
     },
     "execution_count": 16,
     "metadata": {},
     "output_type": "execute_result"
    }
   ],
   "source": [
    "IFrame(src=output_file, width=800, height=600)"
   ]
  },
  {
   "cell_type": "code",
   "execution_count": 17,
   "id": "82ffd597-8421-4711-b17a-feb8be566407",
   "metadata": {},
   "outputs": [
    {
     "data": {
      "text/html": [
       "<a href='results/azure_maps_geocoding_demo.html' target='_blank'>results/azure_maps_geocoding_demo.html</a><br>"
      ],
      "text/plain": [
       "/mnt/batch/tasks/shared/LS_root/mounts/clusters/seretkow8/code/Users/seretkow/azure maps/results/azure_maps_geocoding_demo.html"
      ]
     },
     "execution_count": 17,
     "metadata": {},
     "output_type": "execute_result"
    }
   ],
   "source": [
    "map_link = FileLink(path=output_file)\n",
    "map_link"
   ]
  },
  {
   "cell_type": "code",
   "execution_count": 18,
   "id": "d4d3008c-b584-4f4b-8ee9-2adc7b9cc8e6",
   "metadata": {},
   "outputs": [
    {
     "name": "stdout",
     "output_type": "stream",
     "text": [
      "✅ Map saved as results/azure_maps_geocoding_demo2.html\n"
     ]
    }
   ],
   "source": [
    "geocoding_map = create_geocoding_map(df, tiles=\"CartoDB dark_matter\", center_coords=(48.85, 2.35))\n",
    "\n",
    "output_file = os.path.join(RESULTS_DIR, \"azure_maps_geocoding_demo2.html\")\n",
    "geocoding_map.save(output_file)\n",
    "print(f\"✅ Map saved as {output_file}\")"
   ]
  },
  {
   "cell_type": "code",
   "execution_count": 19,
   "id": "b387f7a3-4ad1-4cb2-b430-f3e21bfd15b8",
   "metadata": {},
   "outputs": [
    {
     "data": {
      "text/html": [
       "\n",
       "        <iframe\n",
       "            width=\"800\"\n",
       "            height=\"600\"\n",
       "            src=\"results/azure_maps_geocoding_demo2.html\"\n",
       "            frameborder=\"0\"\n",
       "            allowfullscreen\n",
       "            \n",
       "        ></iframe>\n",
       "        "
      ],
      "text/plain": [
       "<IPython.lib.display.IFrame at 0x7f31249faad0>"
      ]
     },
     "execution_count": 19,
     "metadata": {},
     "output_type": "execute_result"
    }
   ],
   "source": [
    "IFrame(src=output_file, width=800, height=600)"
   ]
  },
  {
   "cell_type": "code",
   "execution_count": 20,
   "id": "a44a6da2-dd23-431d-a664-f8c59e9c996b",
   "metadata": {},
   "outputs": [
    {
     "data": {
      "text/html": [
       "<a href='results/azure_maps_geocoding_demo2.html' target='_blank'>results/azure_maps_geocoding_demo2.html</a><br>"
      ],
      "text/plain": [
       "/mnt/batch/tasks/shared/LS_root/mounts/clusters/seretkow8/code/Users/seretkow/azure maps/results/azure_maps_geocoding_demo2.html"
      ]
     },
     "execution_count": 20,
     "metadata": {},
     "output_type": "execute_result"
    }
   ],
   "source": [
    "map_link = FileLink(path=output_file)\n",
    "map_link"
   ]
  },
  {
   "cell_type": "markdown",
   "id": "7137778e-ff28-453d-9064-32508cb4e341",
   "metadata": {},
   "source": [
    "### Example 5: Advanced geocoding with filters"
   ]
  },
  {
   "cell_type": "code",
   "execution_count": 21,
   "id": "22b0e99b-5e2b-4d43-a107-0ff14e449de8",
   "metadata": {},
   "outputs": [
    {
     "name": "stdout",
     "output_type": "stream",
     "text": [
      "Searching for 'Paris' without filter:\n",
      "  1. Paris (France)\n",
      "  2. Paris, TX (United States)\n",
      "  3. Paris, TN (United States)\n",
      "\n",
      "Searching for 'Paris' with France filter:\n",
      "  1. Paris (France)\n",
      "  2. Paris-l'Hôpital (France)\n",
      "  3. Le Touquet-Paris-Plage (France)\n"
     ]
    }
   ],
   "source": [
    "# Search for \"Paris\" with and without country filter\n",
    "print(\"Searching for 'Paris' without filter:\")\n",
    "paris_results = geocoding.geocode_address(\"Paris\")\n",
    "\n",
    "if paris_results and 'results' in paris_results:\n",
    "    for i, res in enumerate(paris_results['results'][:3]):\n",
    "        country = res.get('address', {}).get('country', 'N/A')\n",
    "        formatted_address = res.get('address', {}).get('freeformAddress',\n",
    "                                                       'N/A')\n",
    "        print(f\"  {i+1}. {formatted_address} ({country})\")\n",
    "\n",
    "print(\"\\nSearching for 'Paris' with France filter:\")\n",
    "paris_france = geocoding.geocode_address(\"Paris\", country_set=\"FR\")\n",
    "\n",
    "if paris_france and 'results' in paris_france:\n",
    "    for i, res in enumerate(paris_france['results'][:3]):\n",
    "        country = res.get('address', {}).get('country', 'N/A')\n",
    "        formatted_address = res.get('address', {}).get('freeformAddress',\n",
    "                                                       'N/A')\n",
    "        print(f\"  {i+1}. {formatted_address} ({country})\")"
   ]
  },
  {
   "cell_type": "code",
   "execution_count": null,
   "id": "f2b5e0ed-cb9d-40f8-8606-41f3c0944669",
   "metadata": {},
   "outputs": [],
   "source": []
  }
 ],
 "metadata": {
  "kernelspec": {
   "display_name": "Python 3.10 - SDK v2",
   "language": "python",
   "name": "python310-sdkv2"
  },
  "language_info": {
   "codemirror_mode": {
    "name": "ipython",
    "version": 3
   },
   "file_extension": ".py",
   "mimetype": "text/x-python",
   "name": "python",
   "nbconvert_exporter": "python",
   "pygments_lexer": "ipython3",
   "version": "3.10.14"
  },
  "varInspector": {
   "cols": {
    "lenName": 16,
    "lenType": 16,
    "lenVar": 40
   },
   "kernels_config": {
    "python": {
     "delete_cmd_postfix": "",
     "delete_cmd_prefix": "del ",
     "library": "var_list.py",
     "varRefreshCmd": "print(var_dic_list())"
    },
    "r": {
     "delete_cmd_postfix": ") ",
     "delete_cmd_prefix": "rm(",
     "library": "var_list.r",
     "varRefreshCmd": "cat(var_dic_list()) "
    }
   },
   "types_to_exclude": [
    "module",
    "function",
    "builtin_function_or_method",
    "instance",
    "_Feature"
   ],
   "window_display": false
  }
 },
 "nbformat": 4,
 "nbformat_minor": 5
}
