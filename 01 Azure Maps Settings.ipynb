{
 "cells": [
  {
   "cell_type": "markdown",
   "id": "bc44f938-3e05-4556-8545-8ddf993da465",
   "metadata": {},
   "source": [
    "# 1 Azure Maps\n",
    "\n",
    "https://azure.microsoft.com/en-us/products/azure-maps/?msockid=2e39c66c693c66a5151fd200687567d0\n",
    "\n",
    "https://learn.microsoft.com/en-us/azure/azure-maps/"
   ]
  },
  {
   "cell_type": "markdown",
   "id": "5c675d82-d929-4425-b8f1-664c0d910fe9",
   "metadata": {},
   "source": [
    "### 🔍 Search\n",
    "Create apps that display nearby points of interest (POIs), show locations on a map and perform geocoding to convert addresses into coordinates —or reverse geocoding to get addresses from coordinates.\n",
    "\n",
    "### 🚦 Traffic\n",
    "Build mobility solutions that reduce travel time, suggest alternate routes around traffic jams, provide insights into delays, and improve commuting during rush hour.\n",
    "\n",
    "### 🗺️ Maps\n",
    "Integrate clear, user-friendly maps into your cross-platform apps using the Web Map SDK or Render API. Azure Maps updates dynamically, ensuring users always get fresh, accurate information. Develop for web and mobile with dedicated SDKs.\n",
    "\n",
    "### 🧭 Routing\n",
    "Offer the shortest or fastest routes to multiple destinations. Support specialized routing for pedestrians and commercial vehicles, and enhance planning with isochrones, matrix routing, and batch routing.\n",
    "\n",
    "### 🗃️ Data Registry Service\n",
    "Store and manage organizational data assets securely in an Azure Storage Account linked to your Azure Maps account. Ensure data accuracy and reliability for streamlined operations and deeper insights.\n",
    "\n",
    "### 🌦️ Weather Service\n",
    "Powered by Accuweather, access current conditions, forecasts, and route-specific weather to enable smarter, weather-aware decisions in your apps.\n",
    "\n",
    "### 🌍 Time Zones\n",
    "Help users easily find the current time anywhere in the world. Get time zone info, UTC offsets, and daylight saving updates for any location.\n",
    "\n",
    "### 🌐 Geolocation\n",
    "Identify the country of an IP address to personalize content and services based on user location. Gain insights into geographic distribution and user demographics."
   ]
  },
  {
   "cell_type": "code",
   "execution_count": 1,
   "id": "7c53d667-8353-4ee1-a3c2-c8c8d0f3d884",
   "metadata": {},
   "outputs": [],
   "source": [
    "import datetime\n",
    "import folium\n",
    "import json\n",
    "import os\n",
    "import requests\n",
    "import sys\n",
    "\n",
    "from datetime import timedelta\n",
    "from dotenv import load_dotenv\n",
    "from IPython.display import IFrame, FileLink\n",
    "from typing import Dict, List, Tuple, Optional"
   ]
  },
  {
   "cell_type": "markdown",
   "id": "a7abcbd4-3f20-4271-93c4-439273517bf0",
   "metadata": {},
   "source": [
    "# Settings"
   ]
  },
  {
   "cell_type": "code",
   "execution_count": 2,
   "id": "c0957d78-28e0-46e2-a425-548334fa8e21",
   "metadata": {},
   "outputs": [
    {
     "data": {
      "text/plain": [
       "'3.10.14 (main, May  6 2024, 19:42:50) [GCC 11.2.0]'"
      ]
     },
     "execution_count": 2,
     "metadata": {},
     "output_type": "execute_result"
    }
   ],
   "source": [
    "sys.version"
   ]
  },
  {
   "cell_type": "code",
   "execution_count": 3,
   "id": "5ce8424e-d92d-4d9b-829b-fa740f7c28d1",
   "metadata": {},
   "outputs": [
    {
     "name": "stdout",
     "output_type": "stream",
     "text": [
      "Today is 02-Sep-2025 08:40:10\n"
     ]
    }
   ],
   "source": [
    "print(f\"Today is {datetime.datetime.today().strftime('%d-%b-%Y %H:%M:%S')}\")"
   ]
  },
  {
   "cell_type": "code",
   "execution_count": 4,
   "id": "3264a0e5-0f6e-489f-a7c1-624bc5decd1d",
   "metadata": {},
   "outputs": [
    {
     "name": "stdout",
     "output_type": "stream",
     "text": [
      "-rwxrwxrwx 1 root root 104 Sep  1 12:02 azure.env\n"
     ]
    }
   ],
   "source": [
    "!ls azure.env -lh"
   ]
  },
  {
   "cell_type": "code",
   "execution_count": 5,
   "id": "7c10d32d-c272-4f44-b0ef-66745238dfe2",
   "metadata": {},
   "outputs": [
    {
     "data": {
      "text/plain": [
       "True"
      ]
     },
     "execution_count": 5,
     "metadata": {},
     "output_type": "execute_result"
    }
   ],
   "source": [
    "load_dotenv(\"azure.env\")"
   ]
  },
  {
   "cell_type": "code",
   "execution_count": 6,
   "id": "a000ae41-9109-49df-9982-108359349bb9",
   "metadata": {},
   "outputs": [],
   "source": [
    "RESULTS_DIR = \"results\"\n",
    "\n",
    "os.makedirs(RESULTS_DIR, exist_ok=True)"
   ]
  },
  {
   "cell_type": "markdown",
   "id": "343a6c0e-5377-4028-a662-7159b6ea1b2c",
   "metadata": {},
   "source": [
    "## Helper"
   ]
  },
  {
   "cell_type": "code",
   "execution_count": 7,
   "id": "d1462a6f-49fa-4231-aa3c-4f00829a9eff",
   "metadata": {},
   "outputs": [],
   "source": [
    "class AzureMapsClient:\n",
    "    \"\"\"\n",
    "    Azure Maps API Client for Python\n",
    "    \"\"\"\n",
    "    def __init__(self, subscription_key: str):\n",
    "        \"\"\"\n",
    "        Initialize Azure Maps client\n",
    "        \n",
    "        Args:\n",
    "            subscription_key: Your Azure Maps subscription key\n",
    "        \"\"\"\n",
    "        self.subscription_key = subscription_key\n",
    "        self.base_url = \"https://atlas.microsoft.com\"\n",
    "\n",
    "    def _make_request(self, endpoint: str, params: Dict) -> Dict:\n",
    "        \"\"\"\n",
    "        Make authenticated request to Azure Maps API\n",
    "        \n",
    "        Args:\n",
    "            endpoint: API endpoint\n",
    "            params: Request parameters\n",
    "            \n",
    "        Returns:\n",
    "            API response as dictionary\n",
    "        \"\"\"\n",
    "        params['api-version'] = '1.0'\n",
    "        params['subscription-key'] = self.subscription_key\n",
    "\n",
    "        url = f\"{self.base_url}/{endpoint}\"\n",
    "\n",
    "        try:\n",
    "            response = requests.get(url, params=params)\n",
    "            response.raise_for_status()\n",
    "            return response.json()\n",
    "        except requests.exceptions.RequestException as e:\n",
    "            print(f\"API request failed: {e}\")\n",
    "            return {}"
   ]
  },
  {
   "cell_type": "markdown",
   "id": "f7475517-ae20-4333-863c-f1357e57d7a7",
   "metadata": {},
   "source": [
    "## Test"
   ]
  },
  {
   "cell_type": "code",
   "execution_count": 8,
   "id": "998a756b-b301-493b-905c-e44ed4bc99c7",
   "metadata": {},
   "outputs": [
    {
     "name": "stdout",
     "output_type": "stream",
     "text": [
      "✅ Azure Maps client initialized successfully!\n"
     ]
    }
   ],
   "source": [
    "try:\n",
    "    # Try to get key from environment variable\n",
    "    subscription_key = os.getenv('AZURE_MAPS_KEY')\n",
    "\n",
    "    if not subscription_key:\n",
    "        # Prompt user for key if not found in environment\n",
    "        subscription_key = input(\"Enter your Azure Maps subscription key: \")\n",
    "\n",
    "    # Create client instance\n",
    "    azure_maps = AzureMapsClient(subscription_key)\n",
    "    print(\"✅ Azure Maps client initialized successfully!\")\n",
    "\n",
    "except Exception as e:\n",
    "    print(f\"❌ Setup failed: {e}\")\n",
    "    print(\"Please check your subscription key and internet connection\")"
   ]
  },
  {
   "cell_type": "markdown",
   "id": "ffc06b6f-30a2-4fa4-a65e-b0a39bf1755e",
   "metadata": {},
   "source": [
    "## Example 1"
   ]
  },
  {
   "cell_type": "code",
   "execution_count": 9,
   "id": "9b77ac78-d2af-44a4-877f-e44f4dfbb302",
   "metadata": {},
   "outputs": [],
   "source": [
    "address = 'Redmond, USA'"
   ]
  },
  {
   "cell_type": "code",
   "execution_count": 10,
   "id": "2194620a-78fa-4404-8279-541748e36183",
   "metadata": {},
   "outputs": [
    {
     "name": "stdout",
     "output_type": "stream",
     "text": [
      "OK. Test query returned 1 results\n"
     ]
    }
   ],
   "source": [
    "test_response = azure_maps._make_request('search/address/json', {'query': address, 'limit': 1})\n",
    "\n",
    "if test_response and 'results' in test_response:\n",
    "    print(f\"OK. Test query returned {len(test_response['results'])} results\")\n",
    "else:\n",
    "     print(\"ERROR. Connection test failed - please check your subscription key\")"
   ]
  },
  {
   "cell_type": "code",
   "execution_count": 11,
   "id": "0989b706-f796-452c-b19e-094b27cf3580",
   "metadata": {},
   "outputs": [
    {
     "data": {
      "text/plain": [
       "{'summary': {'query': 'redmond',\n",
       "  'queryType': 'NON_NEAR',\n",
       "  'queryTime': 53,\n",
       "  'numResults': 1,\n",
       "  'offset': 0,\n",
       "  'totalResults': 6,\n",
       "  'fuzzyLevel': 1},\n",
       " 'results': [{'type': 'Geography',\n",
       "   'id': 'v44eSpinEz5drKY2oSsUsg',\n",
       "   'score': 1,\n",
       "   'entityType': 'Municipality',\n",
       "   'matchConfidence': {'score': 1},\n",
       "   'address': {'municipality': 'Redmond',\n",
       "    'countrySecondarySubdivision': 'King',\n",
       "    'countrySubdivision': 'WA',\n",
       "    'countrySubdivisionName': 'Washington',\n",
       "    'countrySubdivisionCode': 'WA',\n",
       "    'countryCode': 'US',\n",
       "    'country': 'United States',\n",
       "    'countryCodeISO3': 'USA',\n",
       "    'freeformAddress': 'Redmond, WA'},\n",
       "   'position': {'lat': 47.674913, 'lon': -122.123995},\n",
       "   'viewport': {'topLeftPoint': {'lat': 47.734, 'lon': -122.1649},\n",
       "    'btmRightPoint': {'lat': 47.60034, 'lon': -121.95058}},\n",
       "   'boundingBox': {'topLeftPoint': {'lat': 47.734002, 'lon': -122.1649},\n",
       "    'btmRightPoint': {'lat': 47.600337, 'lon': -121.950576}},\n",
       "   'dataSources': {'geometry': {'id': '00005557-4100-3c00-0000-0000596ae571'}}}]}"
      ]
     },
     "execution_count": 11,
     "metadata": {},
     "output_type": "execute_result"
    }
   ],
   "source": [
    "test_response"
   ]
  },
  {
   "cell_type": "code",
   "execution_count": 12,
   "id": "7ac710c4-1ab9-4eef-81a3-27eb0c0546f0",
   "metadata": {},
   "outputs": [
    {
     "name": "stdout",
     "output_type": "stream",
     "text": [
      "✅ Map saved as results/example1.html\n"
     ]
    },
    {
     "data": {
      "text/html": [
       "\n",
       "        <iframe\n",
       "            width=\"1024\"\n",
       "            height=\"860\"\n",
       "            src=\"results/example1.html\"\n",
       "            frameborder=\"0\"\n",
       "            allowfullscreen\n",
       "            \n",
       "        ></iframe>\n",
       "        "
      ],
      "text/plain": [
       "<IPython.lib.display.IFrame at 0x7fa91facea70>"
      ]
     },
     "execution_count": 12,
     "metadata": {},
     "output_type": "execute_result"
    }
   ],
   "source": [
    "m = folium.Map(location=[test_response[\"results\"][0][\"position\"]['lat'], test_response[\"results\"][0][\"position\"]['lon']], zoom_start=12)\n",
    "folium.Marker([test_response[\"results\"][0][\"position\"]['lat'], test_response[\"results\"][0][\"position\"]['lon']], popup=address).add_to(m)\n",
    "\n",
    "output_file = os.path.join(RESULTS_DIR, \"example1.html\")\n",
    "m.save(output_file)\n",
    "print(f\"✅ Map saved as {output_file}\")\n",
    "\n",
    "IFrame(src=output_file, width=1024, height=860)"
   ]
  },
  {
   "cell_type": "code",
   "execution_count": 13,
   "id": "837189ea-f44a-41b2-98f7-6316a8ecc8b2",
   "metadata": {},
   "outputs": [
    {
     "data": {
      "text/html": [
       "<a href='results/example1.html' target='_blank'>results/example1.html</a><br>"
      ],
      "text/plain": [
       "/mnt/batch/tasks/shared/LS_root/mounts/clusters/seretkow8/code/Users/seretkow/azure maps/results/example1.html"
      ]
     },
     "execution_count": 13,
     "metadata": {},
     "output_type": "execute_result"
    }
   ],
   "source": [
    "map_link = FileLink(path=output_file)\n",
    "map_link"
   ]
  },
  {
   "cell_type": "markdown",
   "id": "f2128650-808c-42dd-9ac1-42fdaf3aadaa",
   "metadata": {},
   "source": [
    "## Example 2"
   ]
  },
  {
   "cell_type": "code",
   "execution_count": 14,
   "id": "be24fc59-3d0c-4dd5-b948-4701e27e8353",
   "metadata": {},
   "outputs": [],
   "source": [
    "address = \"39 Quai du Président Roosevelt, 92130 Issy-les-Moulineaux, France\""
   ]
  },
  {
   "cell_type": "code",
   "execution_count": 15,
   "id": "f590403c-28e7-4947-a569-3f928b8c4faf",
   "metadata": {},
   "outputs": [
    {
     "name": "stdout",
     "output_type": "stream",
     "text": [
      "OK. Test query returned 1 results\n"
     ]
    }
   ],
   "source": [
    "# Test connection with a simple request\n",
    "test_response = azure_maps._make_request('search/address/json', {'query': address, 'limit': 1})\n",
    "\n",
    "if test_response and 'results' in test_response:\n",
    "    print(f\"OK. Test query returned {len(test_response['results'])} results\")\n",
    "else:\n",
    "     print(\"ERROR. Connection test failed - please check your subscription key\")"
   ]
  },
  {
   "cell_type": "code",
   "execution_count": 16,
   "id": "b97f5757-8f31-4a68-bf00-89af1c69c7fd",
   "metadata": {},
   "outputs": [
    {
     "data": {
      "text/plain": [
       "{'summary': {'query': '39 quai du président roosevelt 92130 issy les moulineaux france',\n",
       "  'queryType': 'NON_NEAR',\n",
       "  'queryTime': 138,\n",
       "  'numResults': 1,\n",
       "  'offset': 0,\n",
       "  'totalResults': 1,\n",
       "  'fuzzyLevel': 1},\n",
       " 'results': [{'type': 'Point Address',\n",
       "   'id': 'N8IS9PX5JarD5ZRJ7MXofA',\n",
       "   'score': 0.9718004473256633,\n",
       "   'matchConfidence': {'score': 0.9718004473256633},\n",
       "   'address': {'streetNumber': '39',\n",
       "    'streetName': 'Quai du Président Roosevelt',\n",
       "    'municipality': 'Issy-les-Moulineaux',\n",
       "    'neighbourhood': 'Bords et Val de Seine-Les Arches',\n",
       "    'countrySecondarySubdivision': 'Hauts-de-Seine',\n",
       "    'countrySubdivision': 'Île-de-France',\n",
       "    'countrySubdivisionName': 'Île-de-France',\n",
       "    'countrySubdivisionCode': 'IDF',\n",
       "    'postalCode': '92130',\n",
       "    'countryCode': 'FR',\n",
       "    'country': 'France',\n",
       "    'countryCodeISO3': 'FRA',\n",
       "    'freeformAddress': '39 Quai du Président Roosevelt, 92130 Issy-les-Moulineaux',\n",
       "    'localName': 'Issy-les-Moulineaux'},\n",
       "   'position': {'lat': 48.834032, 'lon': 2.2655777},\n",
       "   'viewport': {'topLeftPoint': {'lat': 48.83493, 'lon': 2.26421},\n",
       "    'btmRightPoint': {'lat': 48.83313, 'lon': 2.26694}},\n",
       "   'entryPoints': [{'type': 'main',\n",
       "     'position': {'lat': 48.83422, 'lon': 2.26497}}]}]}"
      ]
     },
     "execution_count": 16,
     "metadata": {},
     "output_type": "execute_result"
    }
   ],
   "source": [
    "test_response"
   ]
  },
  {
   "cell_type": "code",
   "execution_count": 17,
   "id": "c47f2990-2356-4335-83ea-30dc96321d7f",
   "metadata": {},
   "outputs": [
    {
     "name": "stdout",
     "output_type": "stream",
     "text": [
      "✅ Map saved as results/example2.html\n"
     ]
    },
    {
     "data": {
      "text/html": [
       "\n",
       "        <iframe\n",
       "            width=\"1024\"\n",
       "            height=\"860\"\n",
       "            src=\"results/example2.html\"\n",
       "            frameborder=\"0\"\n",
       "            allowfullscreen\n",
       "            \n",
       "        ></iframe>\n",
       "        "
      ],
      "text/plain": [
       "<IPython.lib.display.IFrame at 0x7fa91f8ba620>"
      ]
     },
     "execution_count": 17,
     "metadata": {},
     "output_type": "execute_result"
    }
   ],
   "source": [
    "m = folium.Map(\n",
    "    location=[test_response[\"results\"][0][\"position\"]['lat'], test_response[\"results\"][0][\"position\"]['lon']], \n",
    "    zoom_start=15,\n",
    "    tiles='Esri.WorldImagery'\n",
    ")\n",
    "\n",
    "folium.TileLayer('OpenStreetMap').add_to(m)\n",
    "\n",
    "folium.Marker(\n",
    "    [test_response[\"results\"][0][\"position\"]['lat'], test_response[\"results\"][0][\"position\"]['lon']], \n",
    "    popup=address\n",
    ").add_to(m)\n",
    "\n",
    "output_file = os.path.join(RESULTS_DIR, \"example2.html\")\n",
    "m.save(output_file)\n",
    "print(f\"✅ Map saved as {output_file}\")\n",
    "\n",
    "IFrame(src=output_file, width=1024, height=860)"
   ]
  },
  {
   "cell_type": "code",
   "execution_count": 18,
   "id": "50b1fbc0-0fd2-41b8-aea4-0c54e26622ab",
   "metadata": {},
   "outputs": [
    {
     "data": {
      "text/html": [
       "<a href='results/example2.html' target='_blank'>results/example2.html</a><br>"
      ],
      "text/plain": [
       "/mnt/batch/tasks/shared/LS_root/mounts/clusters/seretkow8/code/Users/seretkow/azure maps/results/example2.html"
      ]
     },
     "execution_count": 18,
     "metadata": {},
     "output_type": "execute_result"
    }
   ],
   "source": [
    "map_link = FileLink(path=output_file)\n",
    "map_link"
   ]
  },
  {
   "cell_type": "code",
   "execution_count": 19,
   "id": "019071a3-ffac-4be0-99b4-b4138a57621d",
   "metadata": {},
   "outputs": [
    {
     "name": "stdout",
     "output_type": "stream",
     "text": [
      "✅ Map saved as results/example3.html\n"
     ]
    },
    {
     "data": {
      "text/html": [
       "\n",
       "        <iframe\n",
       "            width=\"1024\"\n",
       "            height=\"860\"\n",
       "            src=\"results/example3.html\"\n",
       "            frameborder=\"0\"\n",
       "            allowfullscreen\n",
       "            \n",
       "        ></iframe>\n",
       "        "
      ],
      "text/plain": [
       "<IPython.lib.display.IFrame at 0x7fa91face500>"
      ]
     },
     "execution_count": 19,
     "metadata": {},
     "output_type": "execute_result"
    }
   ],
   "source": [
    "m = folium.Map(\n",
    "    location=[test_response[\"results\"][0][\"position\"]['lat'], test_response[\"results\"][0][\"position\"]['lon']], \n",
    "    zoom_start=13,\n",
    "    tiles='Esri.WorldImagery'\n",
    ")\n",
    "\n",
    "# Add alternative tile layers\n",
    "folium.TileLayer('OpenStreetMap').add_to(m)\n",
    "folium.TileLayer('Esri.WorldImagery').add_to(m)\n",
    "\n",
    "# Add layer control\n",
    "folium.LayerControl().add_to(m)\n",
    "\n",
    "folium.Marker(\n",
    "    [test_response[\"results\"][0][\"position\"]['lat'], test_response[\"results\"][0][\"position\"]['lon']], \n",
    "    popup=address\n",
    ").add_to(m)\n",
    "\n",
    "output_file = os.path.join(RESULTS_DIR, \"example3.html\")\n",
    "m.save(output_file)\n",
    "print(f\"✅ Map saved as {output_file}\")\n",
    "\n",
    "IFrame(src=output_file, width=1024, height=860)"
   ]
  },
  {
   "cell_type": "code",
   "execution_count": 20,
   "id": "58c49929-8e57-459b-98c5-e757fff71c91",
   "metadata": {},
   "outputs": [
    {
     "data": {
      "text/html": [
       "<a href='results/example3.html' target='_blank'>results/example3.html</a><br>"
      ],
      "text/plain": [
       "/mnt/batch/tasks/shared/LS_root/mounts/clusters/seretkow8/code/Users/seretkow/azure maps/results/example3.html"
      ]
     },
     "execution_count": 20,
     "metadata": {},
     "output_type": "execute_result"
    }
   ],
   "source": [
    "map_link = FileLink(path=output_file)\n",
    "map_link"
   ]
  },
  {
   "cell_type": "markdown",
   "id": "ffee6d02-e6c8-46b9-a5f1-c075c5779976",
   "metadata": {},
   "source": [
    "## Testing the routes features"
   ]
  },
  {
   "cell_type": "code",
   "execution_count": 21,
   "id": "3c091c0a-3bc5-4fbc-9104-a86d2df6b3b2",
   "metadata": {},
   "outputs": [],
   "source": [
    "def get_route_summary(loc1, loc2, travel_mode='car'):\n",
    "    \"\"\"\n",
    "    Get route summary between two locations using Azure Maps API.\n",
    "    \n",
    "    Args:\n",
    "        loc1 (list): Starting location as [latitude, longitude]\n",
    "        loc2 (list): Destination location as [latitude, longitude]  \n",
    "        travel_mode (str): Travel mode ('car', 'truck', 'taxi', 'bus', 'van', 'motorcycle', 'bicycle', 'pedestrian')\n",
    "    \n",
    "    Returns:\n",
    "        dict: Route summary containing distance, travel time, etc.\n",
    "    \"\"\"\n",
    "    routeUrl = 'https://atlas.microsoft.com/route/directions/json'\n",
    "    query = f'{loc1[0]},{loc1[1]}:{loc2[0]},{loc2[1]}'\n",
    "    \n",
    "    params = {\n",
    "        'api-version': 1.0,\n",
    "        'subscription-key': subscription_key,\n",
    "        'query': query,\n",
    "        'travelMode': travel_mode,\n",
    "        'traffic': True,\n",
    "        'ComputeTravelTimeFor': 'all'\n",
    "    }\n",
    "    \n",
    "    response = requests.get(routeUrl, params=params).json()\n",
    "    return response['routes'][0]['summary']\n",
    "\n",
    "\n",
    "def print_route_summary(summary):\n",
    "    \"\"\"\n",
    "    Print route summary in a nice, readable format.\n",
    "    \n",
    "    Args:\n",
    "        summary (dict): Route summary from Azure Maps API\n",
    "    \"\"\"\n",
    "    print(\"🗺️  ROUTE SUMMARY\")\n",
    "    print(\"=\" * 40)\n",
    "    \n",
    "    # Distance\n",
    "    distance_km = summary.get('lengthInMeters', 0) / 1000\n",
    "    print(f\"📏 Distance: {distance_km:.1f} km\")\n",
    "    \n",
    "    # Travel time without traffic\n",
    "    travel_time_sec = summary.get('travelTimeInSeconds', 0)\n",
    "    travel_time = str(timedelta(seconds=travel_time_sec))\n",
    "    print(f\"⏱️  Travel Time: {travel_time}\")\n",
    "    \n",
    "    # Travel time with traffic (if available)\n",
    "    if 'liveTrafficIncidentsTravelTimeInSeconds' in summary:\n",
    "        traffic_time_sec = summary['liveTrafficIncidentsTravelTimeInSeconds']\n",
    "        traffic_time = str(timedelta(seconds=traffic_time_sec))\n",
    "        delay = traffic_time_sec - travel_time_sec\n",
    "        print(f\"🚦 With Traffic: {traffic_time}\")\n",
    "        if delay > 0:\n",
    "            print(f\"⚠️  Traffic Delay: +{delay//60} minutes\")\n",
    "    \n",
    "    # Departure and arrival times (if available)\n",
    "    if 'departureTime' in summary:\n",
    "        print(f\"🕐 Departure: {summary['departureTime']}\")\n",
    "    if 'arrivalTime' in summary:\n",
    "        print(f\"🏁 Arrival: {summary['arrivalTime']}\")\n",
    "    \n",
    "    print(\"=\" * 40)\n",
    "\n",
    "def print_route_summary_json(summary):\n",
    "    \"\"\"Print route summary as formatted JSON.\"\"\"\n",
    "    print(\"📋 ROUTE SUMMARY (JSON)\")\n",
    "    print(json.dumps(summary, indent=5))"
   ]
  },
  {
   "cell_type": "code",
   "execution_count": 22,
   "id": "815bb22b-364e-404a-a116-3d1e8f331ead",
   "metadata": {},
   "outputs": [],
   "source": [
    "loc1 = [40.758896, -73.98513]\n",
    "loc2 = [40.703564, -74.016678]\n"
   ]
  },
  {
   "cell_type": "code",
   "execution_count": 23,
   "id": "a884f82b-798e-4789-868e-63dc3e78d96f",
   "metadata": {},
   "outputs": [
    {
     "data": {
      "text/html": [
       "<div style=\"width:100%;\"><div style=\"position:relative;width:100%;height:0;padding-bottom:60%;\"><span style=\"color:#565656\">Make this Notebook Trusted to load map: File -> Trust Notebook</span><iframe srcdoc=\"&lt;!DOCTYPE html&gt;\n",
       "&lt;html&gt;\n",
       "&lt;head&gt;\n",
       "    \n",
       "    &lt;meta http-equiv=&quot;content-type&quot; content=&quot;text/html; charset=UTF-8&quot; /&gt;\n",
       "    &lt;script src=&quot;https://cdn.jsdelivr.net/npm/leaflet@1.9.3/dist/leaflet.js&quot;&gt;&lt;/script&gt;\n",
       "    &lt;script src=&quot;https://code.jquery.com/jquery-3.7.1.min.js&quot;&gt;&lt;/script&gt;\n",
       "    &lt;script src=&quot;https://cdn.jsdelivr.net/npm/bootstrap@5.2.2/dist/js/bootstrap.bundle.min.js&quot;&gt;&lt;/script&gt;\n",
       "    &lt;script src=&quot;https://cdnjs.cloudflare.com/ajax/libs/Leaflet.awesome-markers/2.0.2/leaflet.awesome-markers.js&quot;&gt;&lt;/script&gt;\n",
       "    &lt;link rel=&quot;stylesheet&quot; href=&quot;https://cdn.jsdelivr.net/npm/leaflet@1.9.3/dist/leaflet.css&quot;/&gt;\n",
       "    &lt;link rel=&quot;stylesheet&quot; href=&quot;https://cdn.jsdelivr.net/npm/bootstrap@5.2.2/dist/css/bootstrap.min.css&quot;/&gt;\n",
       "    &lt;link rel=&quot;stylesheet&quot; href=&quot;https://netdna.bootstrapcdn.com/bootstrap/3.0.0/css/bootstrap-glyphicons.css&quot;/&gt;\n",
       "    &lt;link rel=&quot;stylesheet&quot; href=&quot;https://cdn.jsdelivr.net/npm/@fortawesome/fontawesome-free@6.2.0/css/all.min.css&quot;/&gt;\n",
       "    &lt;link rel=&quot;stylesheet&quot; href=&quot;https://cdnjs.cloudflare.com/ajax/libs/Leaflet.awesome-markers/2.0.2/leaflet.awesome-markers.css&quot;/&gt;\n",
       "    &lt;link rel=&quot;stylesheet&quot; href=&quot;https://cdn.jsdelivr.net/gh/python-visualization/folium/folium/templates/leaflet.awesome.rotate.min.css&quot;/&gt;\n",
       "    \n",
       "            &lt;meta name=&quot;viewport&quot; content=&quot;width=device-width,\n",
       "                initial-scale=1.0, maximum-scale=1.0, user-scalable=no&quot; /&gt;\n",
       "            &lt;style&gt;\n",
       "                #map_4e582d66bce70f8129f050f2b9814ea7 {\n",
       "                    position: relative;\n",
       "                    width: 100.0%;\n",
       "                    height: 100.0%;\n",
       "                    left: 0.0%;\n",
       "                    top: 0.0%;\n",
       "                }\n",
       "                .leaflet-container { font-size: 1rem; }\n",
       "            &lt;/style&gt;\n",
       "\n",
       "            &lt;style&gt;html, body {\n",
       "                width: 100%;\n",
       "                height: 100%;\n",
       "                margin: 0;\n",
       "                padding: 0;\n",
       "            }\n",
       "            &lt;/style&gt;\n",
       "\n",
       "            &lt;style&gt;#map {\n",
       "                position:absolute;\n",
       "                top:0;\n",
       "                bottom:0;\n",
       "                right:0;\n",
       "                left:0;\n",
       "                }\n",
       "            &lt;/style&gt;\n",
       "\n",
       "            &lt;script&gt;\n",
       "                L_NO_TOUCH = false;\n",
       "                L_DISABLE_3D = false;\n",
       "            &lt;/script&gt;\n",
       "\n",
       "        \n",
       "&lt;/head&gt;\n",
       "&lt;body&gt;\n",
       "    \n",
       "    \n",
       "            &lt;div class=&quot;folium-map&quot; id=&quot;map_4e582d66bce70f8129f050f2b9814ea7&quot; &gt;&lt;/div&gt;\n",
       "        \n",
       "&lt;/body&gt;\n",
       "&lt;script&gt;\n",
       "    \n",
       "    \n",
       "            var map_4e582d66bce70f8129f050f2b9814ea7 = L.map(\n",
       "                &quot;map_4e582d66bce70f8129f050f2b9814ea7&quot;,\n",
       "                {\n",
       "                    center: [40.73123, -74.00090399999999],\n",
       "                    crs: L.CRS.EPSG3857,\n",
       "                    ...{\n",
       "  &quot;zoom&quot;: 12,\n",
       "  &quot;zoomControl&quot;: true,\n",
       "  &quot;preferCanvas&quot;: false,\n",
       "}\n",
       "\n",
       "                }\n",
       "            );\n",
       "\n",
       "            \n",
       "\n",
       "        \n",
       "    \n",
       "            var tile_layer_8837ea6ea86afe503e066f77a90bb96f = L.tileLayer(\n",
       "                &quot;https://tile.openstreetmap.org/{z}/{x}/{y}.png&quot;,\n",
       "                {\n",
       "  &quot;minZoom&quot;: 0,\n",
       "  &quot;maxZoom&quot;: 19,\n",
       "  &quot;maxNativeZoom&quot;: 19,\n",
       "  &quot;noWrap&quot;: false,\n",
       "  &quot;attribution&quot;: &quot;\\u0026copy; \\u003ca href=\\&quot;https://www.openstreetmap.org/copyright\\&quot;\\u003eOpenStreetMap\\u003c/a\\u003e contributors&quot;,\n",
       "  &quot;subdomains&quot;: &quot;abc&quot;,\n",
       "  &quot;detectRetina&quot;: false,\n",
       "  &quot;tms&quot;: false,\n",
       "  &quot;opacity&quot;: 1,\n",
       "}\n",
       "\n",
       "            );\n",
       "        \n",
       "    \n",
       "            tile_layer_8837ea6ea86afe503e066f77a90bb96f.addTo(map_4e582d66bce70f8129f050f2b9814ea7);\n",
       "        \n",
       "    \n",
       "            var marker_de5b317fac242fa0bcdb859f3e287722 = L.marker(\n",
       "                [40.758896, -73.98513],\n",
       "                {\n",
       "}\n",
       "            ).addTo(map_4e582d66bce70f8129f050f2b9814ea7);\n",
       "        \n",
       "    \n",
       "            var icon_ad51f8d06296eb0f41f2e40aa1fa112d = L.AwesomeMarkers.icon(\n",
       "                {\n",
       "  &quot;markerColor&quot;: &quot;red&quot;,\n",
       "  &quot;iconColor&quot;: &quot;white&quot;,\n",
       "  &quot;icon&quot;: &quot;info-sign&quot;,\n",
       "  &quot;prefix&quot;: &quot;glyphicon&quot;,\n",
       "  &quot;extraClasses&quot;: &quot;fa-rotate-0&quot;,\n",
       "}\n",
       "            );\n",
       "        \n",
       "    \n",
       "        var popup_46ba9f54215b823ba1dc1561635917a4 = L.popup({\n",
       "  &quot;maxWidth&quot;: &quot;100%&quot;,\n",
       "});\n",
       "\n",
       "        \n",
       "            \n",
       "                var html_a7f5ff5d95f94b86c37f2087834853b6 = $(`&lt;div id=&quot;html_a7f5ff5d95f94b86c37f2087834853b6&quot; style=&quot;width: 100.0%; height: 100.0%;&quot;&gt;Location 1&lt;/div&gt;`)[0];\n",
       "                popup_46ba9f54215b823ba1dc1561635917a4.setContent(html_a7f5ff5d95f94b86c37f2087834853b6);\n",
       "            \n",
       "        \n",
       "\n",
       "        marker_de5b317fac242fa0bcdb859f3e287722.bindPopup(popup_46ba9f54215b823ba1dc1561635917a4)\n",
       "        ;\n",
       "\n",
       "        \n",
       "    \n",
       "    \n",
       "            marker_de5b317fac242fa0bcdb859f3e287722.bindTooltip(\n",
       "                `&lt;div&gt;\n",
       "                     Click for more info\n",
       "                 &lt;/div&gt;`,\n",
       "                {\n",
       "  &quot;sticky&quot;: true,\n",
       "}\n",
       "            );\n",
       "        \n",
       "    \n",
       "                marker_de5b317fac242fa0bcdb859f3e287722.setIcon(icon_ad51f8d06296eb0f41f2e40aa1fa112d);\n",
       "            \n",
       "    \n",
       "            var marker_7cd3949e2c5f7b8fe3573ea8c5c1be30 = L.marker(\n",
       "                [40.703564, -74.016678],\n",
       "                {\n",
       "}\n",
       "            ).addTo(map_4e582d66bce70f8129f050f2b9814ea7);\n",
       "        \n",
       "    \n",
       "            var icon_37ad9fd26f5f319937da74b035e7070a = L.AwesomeMarkers.icon(\n",
       "                {\n",
       "  &quot;markerColor&quot;: &quot;blue&quot;,\n",
       "  &quot;iconColor&quot;: &quot;white&quot;,\n",
       "  &quot;icon&quot;: &quot;info-sign&quot;,\n",
       "  &quot;prefix&quot;: &quot;glyphicon&quot;,\n",
       "  &quot;extraClasses&quot;: &quot;fa-rotate-0&quot;,\n",
       "}\n",
       "            );\n",
       "        \n",
       "    \n",
       "        var popup_dd0e89f8b5e4f42aa7ad000b0f8d45d0 = L.popup({\n",
       "  &quot;maxWidth&quot;: &quot;100%&quot;,\n",
       "});\n",
       "\n",
       "        \n",
       "            \n",
       "                var html_d84947d44f437e398abd4454cfabc630 = $(`&lt;div id=&quot;html_d84947d44f437e398abd4454cfabc630&quot; style=&quot;width: 100.0%; height: 100.0%;&quot;&gt;Location 2&lt;/div&gt;`)[0];\n",
       "                popup_dd0e89f8b5e4f42aa7ad000b0f8d45d0.setContent(html_d84947d44f437e398abd4454cfabc630);\n",
       "            \n",
       "        \n",
       "\n",
       "        marker_7cd3949e2c5f7b8fe3573ea8c5c1be30.bindPopup(popup_dd0e89f8b5e4f42aa7ad000b0f8d45d0)\n",
       "        ;\n",
       "\n",
       "        \n",
       "    \n",
       "    \n",
       "            marker_7cd3949e2c5f7b8fe3573ea8c5c1be30.bindTooltip(\n",
       "                `&lt;div&gt;\n",
       "                     Click for more info\n",
       "                 &lt;/div&gt;`,\n",
       "                {\n",
       "  &quot;sticky&quot;: true,\n",
       "}\n",
       "            );\n",
       "        \n",
       "    \n",
       "                marker_7cd3949e2c5f7b8fe3573ea8c5c1be30.setIcon(icon_37ad9fd26f5f319937da74b035e7070a);\n",
       "            \n",
       "    \n",
       "            var poly_line_c6a102274e46f3357b5232ee816adf2b = L.polyline(\n",
       "                [[40.758896, -73.98513], [40.703564, -74.016678]],\n",
       "                {&quot;bubblingMouseEvents&quot;: true, &quot;color&quot;: &quot;green&quot;, &quot;dashArray&quot;: null, &quot;dashOffset&quot;: null, &quot;fill&quot;: false, &quot;fillColor&quot;: &quot;green&quot;, &quot;fillOpacity&quot;: 0.2, &quot;fillRule&quot;: &quot;evenodd&quot;, &quot;lineCap&quot;: &quot;round&quot;, &quot;lineJoin&quot;: &quot;round&quot;, &quot;noClip&quot;: false, &quot;opacity&quot;: 1, &quot;smoothFactor&quot;: 1.0, &quot;stroke&quot;: true, &quot;weight&quot;: 2.5}\n",
       "            ).addTo(map_4e582d66bce70f8129f050f2b9814ea7);\n",
       "        \n",
       "    \n",
       "            tile_layer_8837ea6ea86afe503e066f77a90bb96f.addTo(map_4e582d66bce70f8129f050f2b9814ea7);\n",
       "        \n",
       "    \n",
       "                marker_de5b317fac242fa0bcdb859f3e287722.setIcon(icon_ad51f8d06296eb0f41f2e40aa1fa112d);\n",
       "            \n",
       "    \n",
       "                marker_7cd3949e2c5f7b8fe3573ea8c5c1be30.setIcon(icon_37ad9fd26f5f319937da74b035e7070a);\n",
       "            \n",
       "&lt;/script&gt;\n",
       "&lt;/html&gt;\" style=\"position:absolute;width:100%;height:100%;left:0;top:0;border:none !important;\" allowfullscreen webkitallowfullscreen mozallowfullscreen></iframe></div></div>"
      ],
      "text/plain": [
       "<folium.folium.Map at 0x7fa91f8b9900>"
      ]
     },
     "execution_count": 23,
     "metadata": {},
     "output_type": "execute_result"
    }
   ],
   "source": [
    "# Create a map centered between the two points\n",
    "center_lat = (loc1[0] + loc2[0]) / 2\n",
    "center_lon = (loc1[1] + loc2[1]) / 2\n",
    "\n",
    "# Create the map\n",
    "m = folium.Map(location=[center_lat, center_lon], zoom_start=12)\n",
    "\n",
    "# Add markers\n",
    "folium.Marker(\n",
    "    loc1,\n",
    "    popup=\"Location 1\",\n",
    "    tooltip=\"Click for more info\",\n",
    "    icon=folium.Icon(color='red')\n",
    ").add_to(m)\n",
    "\n",
    "folium.Marker(\n",
    "    loc2,\n",
    "    popup=\"Location 2\", \n",
    "    tooltip=\"Click for more info\",\n",
    "    icon=folium.Icon(color='blue')\n",
    ").add_to(m)\n",
    "\n",
    "# Optional: Add a line between the points\n",
    "folium.PolyLine([loc1, loc2], color=\"green\", weight=2.5, opacity=1).add_to(m)\n",
    "\n",
    "# Save or display the map\n",
    "m.save(os.path.join(RESULTS_DIR, 'map.html'))  # Saves as HTML file\n",
    "m"
   ]
  },
  {
   "cell_type": "code",
   "execution_count": 32,
   "id": "75418fe3-d5e3-431d-b535-2eede2ea9d71",
   "metadata": {},
   "outputs": [
    {
     "data": {
      "text/html": [
       "<a href='results/map.html' target='_blank'>results/map.html</a><br>"
      ],
      "text/plain": [
       "/mnt/batch/tasks/shared/LS_root/mounts/clusters/seretkow8/code/Users/seretkow/azure maps/results/map.html"
      ]
     },
     "execution_count": 32,
     "metadata": {},
     "output_type": "execute_result"
    }
   ],
   "source": [
    "map_link = FileLink(path=os.path.join(RESULTS_DIR, 'map.html'))\n",
    "map_link"
   ]
  },
  {
   "cell_type": "code",
   "execution_count": 24,
   "id": "df3a43a9-aa66-453e-ab4c-fbafd2ed83e4",
   "metadata": {},
   "outputs": [
    {
     "name": "stdout",
     "output_type": "stream",
     "text": [
      "🗺️  ROUTE SUMMARY\n",
      "========================================\n",
      "📏 Distance: 7.1 km\n",
      "⏱️  Travel Time: 0:19:08\n",
      "🚦 With Traffic: 0:19:08\n",
      "🕐 Departure: 2025-09-02T04:40:12-04:00\n",
      "🏁 Arrival: 2025-09-02T04:59:20-04:00\n",
      "========================================\n"
     ]
    }
   ],
   "source": [
    "summary = get_route_summary(loc1, loc2, 'car')\n",
    "print_route_summary(summary)"
   ]
  },
  {
   "cell_type": "code",
   "execution_count": 25,
   "id": "8a529b8d-4d0e-49e1-bb4a-8a6a022a7a1e",
   "metadata": {},
   "outputs": [
    {
     "name": "stdout",
     "output_type": "stream",
     "text": [
      "📋 ROUTE SUMMARY (JSON)\n",
      "{\n",
      "     \"lengthInMeters\": 7139,\n",
      "     \"travelTimeInSeconds\": 1148,\n",
      "     \"trafficDelayInSeconds\": 0,\n",
      "     \"trafficLengthInMeters\": 0,\n",
      "     \"departureTime\": \"2025-09-02T04:40:12-04:00\",\n",
      "     \"arrivalTime\": \"2025-09-02T04:59:20-04:00\",\n",
      "     \"noTrafficTravelTimeInSeconds\": 1183,\n",
      "     \"historicTrafficTravelTimeInSeconds\": 1198,\n",
      "     \"liveTrafficIncidentsTravelTimeInSeconds\": 1148\n",
      "}\n"
     ]
    }
   ],
   "source": [
    "print_route_summary_json(summary)"
   ]
  },
  {
   "cell_type": "code",
   "execution_count": 26,
   "id": "dc9b0ab0-602e-4c5e-b565-3fa7d1d2466c",
   "metadata": {},
   "outputs": [
    {
     "name": "stdout",
     "output_type": "stream",
     "text": [
      "🗺️  ROUTE SUMMARY\n",
      "========================================\n",
      "📏 Distance: 8.5 km\n",
      "⏱️  Travel Time: 0:21:39\n",
      "🚦 With Traffic: 0:21:39\n",
      "🕐 Departure: 2025-09-02T04:40:12-04:00\n",
      "🏁 Arrival: 2025-09-02T05:01:51-04:00\n",
      "========================================\n"
     ]
    }
   ],
   "source": [
    "summary = get_route_summary(loc1, loc2, 'truck')\n",
    "print_route_summary(summary)"
   ]
  },
  {
   "cell_type": "code",
   "execution_count": 27,
   "id": "4427fb55-0823-4a99-9afe-f44ea4604f1f",
   "metadata": {},
   "outputs": [
    {
     "name": "stdout",
     "output_type": "stream",
     "text": [
      "🗺️  ROUTE SUMMARY\n",
      "========================================\n",
      "📏 Distance: 7.1 km\n",
      "⏱️  Travel Time: 0:23:01\n",
      "🚦 With Traffic: 0:23:01\n",
      "🕐 Departure: 2025-09-02T04:40:12-04:00\n",
      "🏁 Arrival: 2025-09-02T05:03:13-04:00\n",
      "========================================\n"
     ]
    }
   ],
   "source": [
    "summary = get_route_summary(loc1, loc2, 'bicycle')\n",
    "print_route_summary(summary)"
   ]
  },
  {
   "cell_type": "code",
   "execution_count": 28,
   "id": "65d6986a-21b4-450e-99c0-3899573b36d3",
   "metadata": {},
   "outputs": [
    {
     "name": "stdout",
     "output_type": "stream",
     "text": [
      "🗺️  ROUTE SUMMARY\n",
      "========================================\n",
      "📏 Distance: 6.8 km\n",
      "⏱️  Travel Time: 1:22:05\n",
      "🚦 With Traffic: 1:22:05\n",
      "🕐 Departure: 2025-09-02T04:40:13-04:00\n",
      "🏁 Arrival: 2025-09-02T06:02:18-04:00\n",
      "========================================\n"
     ]
    }
   ],
   "source": [
    "summary = get_route_summary(loc1, loc2,'pedestrian')\n",
    "print_route_summary(summary)"
   ]
  },
  {
   "cell_type": "code",
   "execution_count": 29,
   "id": "fed7dda7-82a8-4a58-894e-ce2a97d56165",
   "metadata": {},
   "outputs": [
    {
     "name": "stdout",
     "output_type": "stream",
     "text": [
      "🗺️  ROUTE SUMMARY\n",
      "========================================\n",
      "📏 Distance: 7.1 km\n",
      "⏱️  Travel Time: 0:19:07\n",
      "🚦 With Traffic: 0:19:07\n",
      "🕐 Departure: 2025-09-02T04:40:13-04:00\n",
      "🏁 Arrival: 2025-09-02T04:59:20-04:00\n",
      "========================================\n"
     ]
    }
   ],
   "source": [
    "summary = get_route_summary(loc1, loc2, 'taxi')\n",
    "print_route_summary(summary)"
   ]
  },
  {
   "cell_type": "code",
   "execution_count": 30,
   "id": "19ae187b-f648-4f05-a6e4-b50b4172f8e4",
   "metadata": {},
   "outputs": [
    {
     "name": "stdout",
     "output_type": "stream",
     "text": [
      "🗺️  ROUTE SUMMARY\n",
      "========================================\n",
      "📏 Distance: 8.5 km\n",
      "⏱️  Travel Time: 0:21:52\n",
      "🚦 With Traffic: 0:21:52\n",
      "🕐 Departure: 2025-09-02T04:40:13-04:00\n",
      "🏁 Arrival: 2025-09-02T05:02:05-04:00\n",
      "========================================\n"
     ]
    }
   ],
   "source": [
    "summary = get_route_summary(loc1, loc2, 'bus')\n",
    "print_route_summary(summary)"
   ]
  },
  {
   "cell_type": "code",
   "execution_count": null,
   "id": "8ea63e45-a0b8-4954-bf96-62b40a1794b2",
   "metadata": {},
   "outputs": [],
   "source": []
  }
 ],
 "metadata": {
  "kernelspec": {
   "display_name": "Python 3.10 - SDK v2",
   "language": "python",
   "name": "python310-sdkv2"
  },
  "language_info": {
   "codemirror_mode": {
    "name": "ipython",
    "version": 3
   },
   "file_extension": ".py",
   "mimetype": "text/x-python",
   "name": "python",
   "nbconvert_exporter": "python",
   "pygments_lexer": "ipython3",
   "version": "3.10.14"
  },
  "varInspector": {
   "cols": {
    "lenName": 16,
    "lenType": 16,
    "lenVar": 40
   },
   "kernels_config": {
    "python": {
     "delete_cmd_postfix": "",
     "delete_cmd_prefix": "del ",
     "library": "var_list.py",
     "varRefreshCmd": "print(var_dic_list())"
    },
    "r": {
     "delete_cmd_postfix": ") ",
     "delete_cmd_prefix": "rm(",
     "library": "var_list.r",
     "varRefreshCmd": "cat(var_dic_list()) "
    }
   },
   "types_to_exclude": [
    "module",
    "function",
    "builtin_function_or_method",
    "instance",
    "_Feature"
   ],
   "window_display": false
  }
 },
 "nbformat": 4,
 "nbformat_minor": 5
}
