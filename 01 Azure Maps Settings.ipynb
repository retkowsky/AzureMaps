{
 "cells": [
  {
   "cell_type": "markdown",
   "id": "bc44f938-3e05-4556-8545-8ddf993da465",
   "metadata": {},
   "source": [
    "# 1 Azure Maps\n",
    "\n",
    "https://azure.microsoft.com/en-us/products/azure-maps/?msockid=2e39c66c693c66a5151fd200687567d0\n",
    "\n",
    "https://learn.microsoft.com/en-us/azure/azure-maps/"
   ]
  },
  {
   "cell_type": "markdown",
   "id": "5c675d82-d929-4425-b8f1-664c0d910fe9",
   "metadata": {},
   "source": [
    "### 🔍 Search\n",
    "Create apps that display nearby points of interest (POIs), show locations on a map and perform geocoding to convert addresses into coordinates —or reverse geocoding to get addresses from coordinates.\n",
    "\n",
    "### 🚦 Traffic\n",
    "Build mobility solutions that reduce travel time, suggest alternate routes around traffic jams, provide insights into delays, and improve commuting during rush hour.\n",
    "\n",
    "### 🗺️ Maps\n",
    "Integrate clear, user-friendly maps into your cross-platform apps using the Web Map SDK or Render API. Azure Maps updates dynamically, ensuring users always get fresh, accurate information. Develop for web and mobile with dedicated SDKs.\n",
    "\n",
    "### 🧭 Routing\n",
    "Offer the shortest or fastest routes to multiple destinations. Support specialized routing for pedestrians and commercial vehicles, and enhance planning with isochrones, matrix routing, and batch routing.\n",
    "\n",
    "### 🗃️ Data Registry Service\n",
    "Store and manage organizational data assets securely in an Azure Storage Account linked to your Azure Maps account. Ensure data accuracy and reliability for streamlined operations and deeper insights.\n",
    "\n",
    "### 🌦️ Weather Service\n",
    "Powered by Accuweather, access current conditions, forecasts, and route-specific weather to enable smarter, weather-aware decisions in your apps.\n",
    "\n",
    "### 🌍 Time Zones\n",
    "Help users easily find the current time anywhere in the world. Get time zone info, UTC offsets, and daylight saving updates for any location.\n",
    "\n",
    "### 🌐 Geolocation\n",
    "Identify the country of an IP address to personalize content and services based on user location. Gain insights into geographic distribution and user demographics."
   ]
  },
  {
   "cell_type": "code",
   "execution_count": 1,
   "id": "7c53d667-8353-4ee1-a3c2-c8c8d0f3d884",
   "metadata": {},
   "outputs": [],
   "source": [
    "import datetime\n",
    "import folium\n",
    "import json\n",
    "import os\n",
    "import requests\n",
    "import sys\n",
    "\n",
    "from dotenv import load_dotenv\n",
    "from IPython.display import IFrame\n",
    "from typing import Dict, List, Tuple, Optional"
   ]
  },
  {
   "cell_type": "markdown",
   "id": "a7abcbd4-3f20-4271-93c4-439273517bf0",
   "metadata": {},
   "source": [
    "# Settings"
   ]
  },
  {
   "cell_type": "code",
   "execution_count": 2,
   "id": "c0957d78-28e0-46e2-a425-548334fa8e21",
   "metadata": {},
   "outputs": [
    {
     "data": {
      "text/plain": [
       "'3.10.14 (main, May  6 2024, 19:42:50) [GCC 11.2.0]'"
      ]
     },
     "execution_count": 2,
     "metadata": {},
     "output_type": "execute_result"
    }
   ],
   "source": [
    "sys.version"
   ]
  },
  {
   "cell_type": "code",
   "execution_count": 3,
   "id": "5ce8424e-d92d-4d9b-829b-fa740f7c28d1",
   "metadata": {},
   "outputs": [
    {
     "name": "stdout",
     "output_type": "stream",
     "text": [
      "Today is 01-Sep-2025 12:04:11\n"
     ]
    }
   ],
   "source": [
    "print(f\"Today is {datetime.datetime.today().strftime('%d-%b-%Y %H:%M:%S')}\")"
   ]
  },
  {
   "cell_type": "code",
   "execution_count": 4,
   "id": "3264a0e5-0f6e-489f-a7c1-624bc5decd1d",
   "metadata": {},
   "outputs": [
    {
     "name": "stdout",
     "output_type": "stream",
     "text": [
      "-rwxrwxrwx 1 root root 104 Sep  1 12:02 azure.env\n"
     ]
    }
   ],
   "source": [
    "!ls azure.env -lh"
   ]
  },
  {
   "cell_type": "code",
   "execution_count": 5,
   "id": "7c10d32d-c272-4f44-b0ef-66745238dfe2",
   "metadata": {},
   "outputs": [
    {
     "data": {
      "text/plain": [
       "True"
      ]
     },
     "execution_count": 5,
     "metadata": {},
     "output_type": "execute_result"
    }
   ],
   "source": [
    "load_dotenv(\"azure.env\")"
   ]
  },
  {
   "cell_type": "code",
   "execution_count": 6,
   "id": "a000ae41-9109-49df-9982-108359349bb9",
   "metadata": {},
   "outputs": [],
   "source": [
    "RESULTS_DIR = \"results\"\n",
    "\n",
    "os.makedirs(RESULTS_DIR, exist_ok=True)"
   ]
  },
  {
   "cell_type": "markdown",
   "id": "343a6c0e-5377-4028-a662-7159b6ea1b2c",
   "metadata": {},
   "source": [
    "## Helper"
   ]
  },
  {
   "cell_type": "code",
   "execution_count": 7,
   "id": "d1462a6f-49fa-4231-aa3c-4f00829a9eff",
   "metadata": {},
   "outputs": [],
   "source": [
    "class AzureMapsClient:\n",
    "    \"\"\"\n",
    "    Azure Maps API Client for Python\n",
    "    \"\"\"\n",
    "    def __init__(self, subscription_key: str):\n",
    "        \"\"\"\n",
    "        Initialize Azure Maps client\n",
    "        \n",
    "        Args:\n",
    "            subscription_key: Your Azure Maps subscription key\n",
    "        \"\"\"\n",
    "        self.subscription_key = subscription_key\n",
    "        self.base_url = \"https://atlas.microsoft.com\"\n",
    "\n",
    "    def _make_request(self, endpoint: str, params: Dict) -> Dict:\n",
    "        \"\"\"\n",
    "        Make authenticated request to Azure Maps API\n",
    "        \n",
    "        Args:\n",
    "            endpoint: API endpoint\n",
    "            params: Request parameters\n",
    "            \n",
    "        Returns:\n",
    "            API response as dictionary\n",
    "        \"\"\"\n",
    "        params['api-version'] = '1.0'\n",
    "        params['subscription-key'] = self.subscription_key\n",
    "\n",
    "        url = f\"{self.base_url}/{endpoint}\"\n",
    "\n",
    "        try:\n",
    "            response = requests.get(url, params=params)\n",
    "            response.raise_for_status()\n",
    "            return response.json()\n",
    "        except requests.exceptions.RequestException as e:\n",
    "            print(f\"API request failed: {e}\")\n",
    "            return {}"
   ]
  },
  {
   "cell_type": "markdown",
   "id": "f7475517-ae20-4333-863c-f1357e57d7a7",
   "metadata": {},
   "source": [
    "## Test"
   ]
  },
  {
   "cell_type": "code",
   "execution_count": 8,
   "id": "998a756b-b301-493b-905c-e44ed4bc99c7",
   "metadata": {},
   "outputs": [
    {
     "name": "stdout",
     "output_type": "stream",
     "text": [
      "✅ Azure Maps client initialized successfully!\n"
     ]
    }
   ],
   "source": [
    "try:\n",
    "    # Try to get key from environment variable\n",
    "    subscription_key = os.getenv('AZURE_MAPS_KEY')\n",
    "\n",
    "    if not subscription_key:\n",
    "        # Prompt user for key if not found in environment\n",
    "        subscription_key = input(\"Enter your Azure Maps subscription key: \")\n",
    "\n",
    "    # Create client instance\n",
    "    azure_maps = AzureMapsClient(subscription_key)\n",
    "    print(\"✅ Azure Maps client initialized successfully!\")\n",
    "\n",
    "except Exception as e:\n",
    "    print(f\"❌ Setup failed: {e}\")\n",
    "    print(\"Please check your subscription key and internet connection\")"
   ]
  },
  {
   "cell_type": "markdown",
   "id": "ffc06b6f-30a2-4fa4-a65e-b0a39bf1755e",
   "metadata": {},
   "source": [
    "## Example 1"
   ]
  },
  {
   "cell_type": "code",
   "execution_count": 9,
   "id": "9b77ac78-d2af-44a4-877f-e44f4dfbb302",
   "metadata": {},
   "outputs": [],
   "source": [
    "address = 'Redmond, USA'"
   ]
  },
  {
   "cell_type": "code",
   "execution_count": 10,
   "id": "2194620a-78fa-4404-8279-541748e36183",
   "metadata": {},
   "outputs": [
    {
     "name": "stdout",
     "output_type": "stream",
     "text": [
      "OK. Test query returned 1 results\n"
     ]
    }
   ],
   "source": [
    "test_response = azure_maps._make_request('search/address/json', {'query': address, 'limit': 1})\n",
    "\n",
    "if test_response and 'results' in test_response:\n",
    "    print(f\"OK. Test query returned {len(test_response['results'])} results\")\n",
    "else:\n",
    "     print(\"ERROR. Connection test failed - please check your subscription key\")"
   ]
  },
  {
   "cell_type": "code",
   "execution_count": 11,
   "id": "0989b706-f796-452c-b19e-094b27cf3580",
   "metadata": {},
   "outputs": [
    {
     "data": {
      "text/plain": [
       "{'summary': {'query': 'redmond',\n",
       "  'queryType': 'NON_NEAR',\n",
       "  'queryTime': 56,\n",
       "  'numResults': 1,\n",
       "  'offset': 0,\n",
       "  'totalResults': 6,\n",
       "  'fuzzyLevel': 1},\n",
       " 'results': [{'type': 'Geography',\n",
       "   'id': 'v44eSpinEz5drKY2oSsUsg',\n",
       "   'score': 1,\n",
       "   'entityType': 'Municipality',\n",
       "   'matchConfidence': {'score': 1},\n",
       "   'address': {'municipality': 'Redmond',\n",
       "    'countrySecondarySubdivision': 'King',\n",
       "    'countrySubdivision': 'WA',\n",
       "    'countrySubdivisionName': 'Washington',\n",
       "    'countrySubdivisionCode': 'WA',\n",
       "    'countryCode': 'US',\n",
       "    'country': 'United States',\n",
       "    'countryCodeISO3': 'USA',\n",
       "    'freeformAddress': 'Redmond, WA'},\n",
       "   'position': {'lat': 47.674913, 'lon': -122.123995},\n",
       "   'viewport': {'topLeftPoint': {'lat': 47.734, 'lon': -122.1649},\n",
       "    'btmRightPoint': {'lat': 47.60034, 'lon': -121.95058}},\n",
       "   'boundingBox': {'topLeftPoint': {'lat': 47.734002, 'lon': -122.1649},\n",
       "    'btmRightPoint': {'lat': 47.600337, 'lon': -121.950576}},\n",
       "   'dataSources': {'geometry': {'id': '00005557-4100-3c00-0000-0000596ae571'}}}]}"
      ]
     },
     "execution_count": 11,
     "metadata": {},
     "output_type": "execute_result"
    }
   ],
   "source": [
    "test_response"
   ]
  },
  {
   "cell_type": "code",
   "execution_count": 12,
   "id": "7ac710c4-1ab9-4eef-81a3-27eb0c0546f0",
   "metadata": {},
   "outputs": [
    {
     "name": "stdout",
     "output_type": "stream",
     "text": [
      "✅ Map saved as results/example1.html\n"
     ]
    },
    {
     "data": {
      "text/html": [
       "\n",
       "        <iframe\n",
       "            width=\"1024\"\n",
       "            height=\"860\"\n",
       "            src=\"results/example1.html\"\n",
       "            frameborder=\"0\"\n",
       "            allowfullscreen\n",
       "            \n",
       "        ></iframe>\n",
       "        "
      ],
      "text/plain": [
       "<IPython.lib.display.IFrame at 0x7fb436d22410>"
      ]
     },
     "execution_count": 12,
     "metadata": {},
     "output_type": "execute_result"
    }
   ],
   "source": [
    "m = folium.Map(location=[test_response[\"results\"][0][\"position\"]['lat'], test_response[\"results\"][0][\"position\"]['lon']], zoom_start=12)\n",
    "folium.Marker([test_response[\"results\"][0][\"position\"]['lat'], test_response[\"results\"][0][\"position\"]['lon']], popup=address).add_to(m)\n",
    "\n",
    "output_file = os.path.join(RESULTS_DIR, \"example1.html\")\n",
    "m.save(output_file)\n",
    "print(f\"✅ Map saved as {output_file}\")\n",
    "\n",
    "IFrame(src=output_file, width=1024, height=860)"
   ]
  },
  {
   "cell_type": "code",
   "execution_count": 13,
   "id": "a015aab9-a775-4f64-bfce-da2f7e25edee",
   "metadata": {},
   "outputs": [
    {
     "data": {
      "text/html": [
       "<div style=\"width:100%;\"><div style=\"position:relative;width:100%;height:0;padding-bottom:60%;\"><span style=\"color:#565656\">Make this Notebook Trusted to load map: File -> Trust Notebook</span><iframe srcdoc=\"&lt;!DOCTYPE html&gt;\n",
       "&lt;html&gt;\n",
       "&lt;head&gt;\n",
       "    \n",
       "    &lt;meta http-equiv=&quot;content-type&quot; content=&quot;text/html; charset=UTF-8&quot; /&gt;\n",
       "    &lt;script src=&quot;https://cdn.jsdelivr.net/npm/leaflet@1.9.3/dist/leaflet.js&quot;&gt;&lt;/script&gt;\n",
       "    &lt;script src=&quot;https://code.jquery.com/jquery-3.7.1.min.js&quot;&gt;&lt;/script&gt;\n",
       "    &lt;script src=&quot;https://cdn.jsdelivr.net/npm/bootstrap@5.2.2/dist/js/bootstrap.bundle.min.js&quot;&gt;&lt;/script&gt;\n",
       "    &lt;script src=&quot;https://cdnjs.cloudflare.com/ajax/libs/Leaflet.awesome-markers/2.0.2/leaflet.awesome-markers.js&quot;&gt;&lt;/script&gt;\n",
       "    &lt;link rel=&quot;stylesheet&quot; href=&quot;https://cdn.jsdelivr.net/npm/leaflet@1.9.3/dist/leaflet.css&quot;/&gt;\n",
       "    &lt;link rel=&quot;stylesheet&quot; href=&quot;https://cdn.jsdelivr.net/npm/bootstrap@5.2.2/dist/css/bootstrap.min.css&quot;/&gt;\n",
       "    &lt;link rel=&quot;stylesheet&quot; href=&quot;https://netdna.bootstrapcdn.com/bootstrap/3.0.0/css/bootstrap-glyphicons.css&quot;/&gt;\n",
       "    &lt;link rel=&quot;stylesheet&quot; href=&quot;https://cdn.jsdelivr.net/npm/@fortawesome/fontawesome-free@6.2.0/css/all.min.css&quot;/&gt;\n",
       "    &lt;link rel=&quot;stylesheet&quot; href=&quot;https://cdnjs.cloudflare.com/ajax/libs/Leaflet.awesome-markers/2.0.2/leaflet.awesome-markers.css&quot;/&gt;\n",
       "    &lt;link rel=&quot;stylesheet&quot; href=&quot;https://cdn.jsdelivr.net/gh/python-visualization/folium/folium/templates/leaflet.awesome.rotate.min.css&quot;/&gt;\n",
       "    \n",
       "            &lt;meta name=&quot;viewport&quot; content=&quot;width=device-width,\n",
       "                initial-scale=1.0, maximum-scale=1.0, user-scalable=no&quot; /&gt;\n",
       "            &lt;style&gt;\n",
       "                #map_3be7f39b8f1aa2510792cd056f5210fd {\n",
       "                    position: relative;\n",
       "                    width: 100.0%;\n",
       "                    height: 100.0%;\n",
       "                    left: 0.0%;\n",
       "                    top: 0.0%;\n",
       "                }\n",
       "                .leaflet-container { font-size: 1rem; }\n",
       "            &lt;/style&gt;\n",
       "\n",
       "            &lt;style&gt;html, body {\n",
       "                width: 100%;\n",
       "                height: 100%;\n",
       "                margin: 0;\n",
       "                padding: 0;\n",
       "            }\n",
       "            &lt;/style&gt;\n",
       "\n",
       "            &lt;style&gt;#map {\n",
       "                position:absolute;\n",
       "                top:0;\n",
       "                bottom:0;\n",
       "                right:0;\n",
       "                left:0;\n",
       "                }\n",
       "            &lt;/style&gt;\n",
       "\n",
       "            &lt;script&gt;\n",
       "                L_NO_TOUCH = false;\n",
       "                L_DISABLE_3D = false;\n",
       "            &lt;/script&gt;\n",
       "\n",
       "        \n",
       "&lt;/head&gt;\n",
       "&lt;body&gt;\n",
       "    \n",
       "    \n",
       "            &lt;div class=&quot;folium-map&quot; id=&quot;map_3be7f39b8f1aa2510792cd056f5210fd&quot; &gt;&lt;/div&gt;\n",
       "        \n",
       "&lt;/body&gt;\n",
       "&lt;script&gt;\n",
       "    \n",
       "    \n",
       "            var map_3be7f39b8f1aa2510792cd056f5210fd = L.map(\n",
       "                &quot;map_3be7f39b8f1aa2510792cd056f5210fd&quot;,\n",
       "                {\n",
       "                    center: [47.674913, -122.123995],\n",
       "                    crs: L.CRS.EPSG3857,\n",
       "                    ...{\n",
       "  &quot;zoom&quot;: 12,\n",
       "  &quot;zoomControl&quot;: true,\n",
       "  &quot;preferCanvas&quot;: false,\n",
       "}\n",
       "\n",
       "                }\n",
       "            );\n",
       "\n",
       "            \n",
       "\n",
       "        \n",
       "    \n",
       "            var tile_layer_7d811becb66c2a21a5f06c384523cb63 = L.tileLayer(\n",
       "                &quot;https://tile.openstreetmap.org/{z}/{x}/{y}.png&quot;,\n",
       "                {\n",
       "  &quot;minZoom&quot;: 0,\n",
       "  &quot;maxZoom&quot;: 19,\n",
       "  &quot;maxNativeZoom&quot;: 19,\n",
       "  &quot;noWrap&quot;: false,\n",
       "  &quot;attribution&quot;: &quot;\\u0026copy; \\u003ca href=\\&quot;https://www.openstreetmap.org/copyright\\&quot;\\u003eOpenStreetMap\\u003c/a\\u003e contributors&quot;,\n",
       "  &quot;subdomains&quot;: &quot;abc&quot;,\n",
       "  &quot;detectRetina&quot;: false,\n",
       "  &quot;tms&quot;: false,\n",
       "  &quot;opacity&quot;: 1,\n",
       "}\n",
       "\n",
       "            );\n",
       "        \n",
       "    \n",
       "            tile_layer_7d811becb66c2a21a5f06c384523cb63.addTo(map_3be7f39b8f1aa2510792cd056f5210fd);\n",
       "        \n",
       "    \n",
       "            var marker_d51b4f4497d27a0fdd76effb9174de00 = L.marker(\n",
       "                [47.674913, -122.123995],\n",
       "                {\n",
       "}\n",
       "            ).addTo(map_3be7f39b8f1aa2510792cd056f5210fd);\n",
       "        \n",
       "    \n",
       "        var popup_78355f9720ed8fb7953fc22533ec0c05 = L.popup({\n",
       "  &quot;maxWidth&quot;: &quot;100%&quot;,\n",
       "});\n",
       "\n",
       "        \n",
       "            \n",
       "                var html_60e9e147e7de801cecca987890363535 = $(`&lt;div id=&quot;html_60e9e147e7de801cecca987890363535&quot; style=&quot;width: 100.0%; height: 100.0%;&quot;&gt;Redmond, USA&lt;/div&gt;`)[0];\n",
       "                popup_78355f9720ed8fb7953fc22533ec0c05.setContent(html_60e9e147e7de801cecca987890363535);\n",
       "            \n",
       "        \n",
       "\n",
       "        marker_d51b4f4497d27a0fdd76effb9174de00.bindPopup(popup_78355f9720ed8fb7953fc22533ec0c05)\n",
       "        ;\n",
       "\n",
       "        \n",
       "    \n",
       "    \n",
       "            tile_layer_7d811becb66c2a21a5f06c384523cb63.addTo(map_3be7f39b8f1aa2510792cd056f5210fd);\n",
       "        \n",
       "&lt;/script&gt;\n",
       "&lt;/html&gt;\" style=\"position:absolute;width:100%;height:100%;left:0;top:0;border:none !important;\" allowfullscreen webkitallowfullscreen mozallowfullscreen></iframe></div></div>"
      ],
      "text/plain": [
       "<folium.folium.Map at 0x7fb45f843cd0>"
      ]
     },
     "execution_count": 13,
     "metadata": {},
     "output_type": "execute_result"
    }
   ],
   "source": [
    "m"
   ]
  },
  {
   "cell_type": "markdown",
   "id": "f2128650-808c-42dd-9ac1-42fdaf3aadaa",
   "metadata": {},
   "source": [
    "## Example 2"
   ]
  },
  {
   "cell_type": "code",
   "execution_count": 14,
   "id": "be24fc59-3d0c-4dd5-b948-4701e27e8353",
   "metadata": {},
   "outputs": [],
   "source": [
    "address = \"39 Quai du Président Roosevelt, 92130 Issy-les-Moulineaux, France\""
   ]
  },
  {
   "cell_type": "code",
   "execution_count": 15,
   "id": "f590403c-28e7-4947-a569-3f928b8c4faf",
   "metadata": {},
   "outputs": [
    {
     "name": "stdout",
     "output_type": "stream",
     "text": [
      "OK. Test query returned 1 results\n"
     ]
    }
   ],
   "source": [
    "# Test connection with a simple request\n",
    "test_response = azure_maps._make_request('search/address/json', {'query': address, 'limit': 1})\n",
    "\n",
    "if test_response and 'results' in test_response:\n",
    "    print(f\"OK. Test query returned {len(test_response['results'])} results\")\n",
    "else:\n",
    "     print(\"ERROR. Connection test failed - please check your subscription key\")"
   ]
  },
  {
   "cell_type": "code",
   "execution_count": 16,
   "id": "b97f5757-8f31-4a68-bf00-89af1c69c7fd",
   "metadata": {},
   "outputs": [
    {
     "data": {
      "text/plain": [
       "{'summary': {'query': '39 quai du président roosevelt 92130 issy les moulineaux france',\n",
       "  'queryType': 'NON_NEAR',\n",
       "  'queryTime': 30,\n",
       "  'numResults': 1,\n",
       "  'offset': 0,\n",
       "  'totalResults': 1,\n",
       "  'fuzzyLevel': 1},\n",
       " 'results': [{'type': 'Point Address',\n",
       "   'id': 'N8IS9PX5JarD5ZRJ7MXofA',\n",
       "   'score': 0.9718004473256633,\n",
       "   'matchConfidence': {'score': 0.9718004473256633},\n",
       "   'address': {'streetNumber': '39',\n",
       "    'streetName': 'Quai du Président Roosevelt',\n",
       "    'municipality': 'Issy-les-Moulineaux',\n",
       "    'neighbourhood': 'Bords et Val de Seine-Les Arches',\n",
       "    'countrySecondarySubdivision': 'Hauts-de-Seine',\n",
       "    'countrySubdivision': 'Île-de-France',\n",
       "    'countrySubdivisionName': 'Île-de-France',\n",
       "    'countrySubdivisionCode': 'IDF',\n",
       "    'postalCode': '92130',\n",
       "    'countryCode': 'FR',\n",
       "    'country': 'France',\n",
       "    'countryCodeISO3': 'FRA',\n",
       "    'freeformAddress': '39 Quai du Président Roosevelt, 92130 Issy-les-Moulineaux',\n",
       "    'localName': 'Issy-les-Moulineaux'},\n",
       "   'position': {'lat': 48.834032, 'lon': 2.2655777},\n",
       "   'viewport': {'topLeftPoint': {'lat': 48.83493, 'lon': 2.26421},\n",
       "    'btmRightPoint': {'lat': 48.83313, 'lon': 2.26694}},\n",
       "   'entryPoints': [{'type': 'main',\n",
       "     'position': {'lat': 48.83422, 'lon': 2.26497}}]}]}"
      ]
     },
     "execution_count": 16,
     "metadata": {},
     "output_type": "execute_result"
    }
   ],
   "source": [
    "test_response"
   ]
  },
  {
   "cell_type": "code",
   "execution_count": 17,
   "id": "c47f2990-2356-4335-83ea-30dc96321d7f",
   "metadata": {},
   "outputs": [
    {
     "name": "stdout",
     "output_type": "stream",
     "text": [
      "✅ Map saved as results/example2.html\n"
     ]
    },
    {
     "data": {
      "text/html": [
       "\n",
       "        <iframe\n",
       "            width=\"1024\"\n",
       "            height=\"860\"\n",
       "            src=\"results/example2.html\"\n",
       "            frameborder=\"0\"\n",
       "            allowfullscreen\n",
       "            \n",
       "        ></iframe>\n",
       "        "
      ],
      "text/plain": [
       "<IPython.lib.display.IFrame at 0x7fb436b1f010>"
      ]
     },
     "execution_count": 17,
     "metadata": {},
     "output_type": "execute_result"
    }
   ],
   "source": [
    "m = folium.Map(\n",
    "    location=[test_response[\"results\"][0][\"position\"]['lat'], test_response[\"results\"][0][\"position\"]['lon']], \n",
    "    zoom_start=15,\n",
    "    tiles='Esri.WorldImagery'\n",
    ")\n",
    "\n",
    "folium.TileLayer('OpenStreetMap').add_to(m)\n",
    "\n",
    "folium.Marker(\n",
    "    [test_response[\"results\"][0][\"position\"]['lat'], test_response[\"results\"][0][\"position\"]['lon']], \n",
    "    popup=address\n",
    ").add_to(m)\n",
    "\n",
    "output_file = os.path.join(RESULTS_DIR, \"example2.html\")\n",
    "m.save(output_file)\n",
    "print(f\"✅ Map saved as {output_file}\")\n",
    "\n",
    "IFrame(src=output_file, width=1024, height=860)"
   ]
  },
  {
   "cell_type": "code",
   "execution_count": 18,
   "id": "019071a3-ffac-4be0-99b4-b4138a57621d",
   "metadata": {},
   "outputs": [
    {
     "name": "stdout",
     "output_type": "stream",
     "text": [
      "✅ Map saved as results/example3.html\n"
     ]
    },
    {
     "data": {
      "text/html": [
       "\n",
       "        <iframe\n",
       "            width=\"1024\"\n",
       "            height=\"860\"\n",
       "            src=\"results/example3.html\"\n",
       "            frameborder=\"0\"\n",
       "            allowfullscreen\n",
       "            \n",
       "        ></iframe>\n",
       "        "
      ],
      "text/plain": [
       "<IPython.lib.display.IFrame at 0x7fb436b1ebc0>"
      ]
     },
     "execution_count": 18,
     "metadata": {},
     "output_type": "execute_result"
    }
   ],
   "source": [
    "m = folium.Map(\n",
    "    location=[test_response[\"results\"][0][\"position\"]['lat'], test_response[\"results\"][0][\"position\"]['lon']], \n",
    "    zoom_start=13,\n",
    "    tiles='Esri.WorldImagery'\n",
    ")\n",
    "\n",
    "# Add alternative tile layers\n",
    "folium.TileLayer('OpenStreetMap').add_to(m)\n",
    "folium.TileLayer('Esri.WorldImagery').add_to(m)\n",
    "\n",
    "# Add layer control\n",
    "folium.LayerControl().add_to(m)\n",
    "\n",
    "folium.Marker(\n",
    "    [test_response[\"results\"][0][\"position\"]['lat'], test_response[\"results\"][0][\"position\"]['lon']], \n",
    "    popup=address\n",
    ").add_to(m)\n",
    "\n",
    "output_file = os.path.join(RESULTS_DIR, \"example3.html\")\n",
    "m.save(output_file)\n",
    "print(f\"✅ Map saved as {output_file}\")\n",
    "\n",
    "IFrame(src=output_file, width=1024, height=860)"
   ]
  },
  {
   "cell_type": "code",
   "execution_count": 19,
   "id": "8efcb5f3-80b8-413d-850c-227f0c044190",
   "metadata": {},
   "outputs": [
    {
     "data": {
      "text/html": [
       "<div style=\"width:100%;\"><div style=\"position:relative;width:100%;height:0;padding-bottom:60%;\"><span style=\"color:#565656\">Make this Notebook Trusted to load map: File -> Trust Notebook</span><iframe srcdoc=\"&lt;!DOCTYPE html&gt;\n",
       "&lt;html&gt;\n",
       "&lt;head&gt;\n",
       "    \n",
       "    &lt;meta http-equiv=&quot;content-type&quot; content=&quot;text/html; charset=UTF-8&quot; /&gt;\n",
       "    &lt;script src=&quot;https://cdn.jsdelivr.net/npm/leaflet@1.9.3/dist/leaflet.js&quot;&gt;&lt;/script&gt;\n",
       "    &lt;script src=&quot;https://code.jquery.com/jquery-3.7.1.min.js&quot;&gt;&lt;/script&gt;\n",
       "    &lt;script src=&quot;https://cdn.jsdelivr.net/npm/bootstrap@5.2.2/dist/js/bootstrap.bundle.min.js&quot;&gt;&lt;/script&gt;\n",
       "    &lt;script src=&quot;https://cdnjs.cloudflare.com/ajax/libs/Leaflet.awesome-markers/2.0.2/leaflet.awesome-markers.js&quot;&gt;&lt;/script&gt;\n",
       "    &lt;link rel=&quot;stylesheet&quot; href=&quot;https://cdn.jsdelivr.net/npm/leaflet@1.9.3/dist/leaflet.css&quot;/&gt;\n",
       "    &lt;link rel=&quot;stylesheet&quot; href=&quot;https://cdn.jsdelivr.net/npm/bootstrap@5.2.2/dist/css/bootstrap.min.css&quot;/&gt;\n",
       "    &lt;link rel=&quot;stylesheet&quot; href=&quot;https://netdna.bootstrapcdn.com/bootstrap/3.0.0/css/bootstrap-glyphicons.css&quot;/&gt;\n",
       "    &lt;link rel=&quot;stylesheet&quot; href=&quot;https://cdn.jsdelivr.net/npm/@fortawesome/fontawesome-free@6.2.0/css/all.min.css&quot;/&gt;\n",
       "    &lt;link rel=&quot;stylesheet&quot; href=&quot;https://cdnjs.cloudflare.com/ajax/libs/Leaflet.awesome-markers/2.0.2/leaflet.awesome-markers.css&quot;/&gt;\n",
       "    &lt;link rel=&quot;stylesheet&quot; href=&quot;https://cdn.jsdelivr.net/gh/python-visualization/folium/folium/templates/leaflet.awesome.rotate.min.css&quot;/&gt;\n",
       "    \n",
       "            &lt;meta name=&quot;viewport&quot; content=&quot;width=device-width,\n",
       "                initial-scale=1.0, maximum-scale=1.0, user-scalable=no&quot; /&gt;\n",
       "            &lt;style&gt;\n",
       "                #map_a857e16d9328b72611a3a0413480dfa2 {\n",
       "                    position: relative;\n",
       "                    width: 100.0%;\n",
       "                    height: 100.0%;\n",
       "                    left: 0.0%;\n",
       "                    top: 0.0%;\n",
       "                }\n",
       "                .leaflet-container { font-size: 1rem; }\n",
       "            &lt;/style&gt;\n",
       "\n",
       "            &lt;style&gt;html, body {\n",
       "                width: 100%;\n",
       "                height: 100%;\n",
       "                margin: 0;\n",
       "                padding: 0;\n",
       "            }\n",
       "            &lt;/style&gt;\n",
       "\n",
       "            &lt;style&gt;#map {\n",
       "                position:absolute;\n",
       "                top:0;\n",
       "                bottom:0;\n",
       "                right:0;\n",
       "                left:0;\n",
       "                }\n",
       "            &lt;/style&gt;\n",
       "\n",
       "            &lt;script&gt;\n",
       "                L_NO_TOUCH = false;\n",
       "                L_DISABLE_3D = false;\n",
       "            &lt;/script&gt;\n",
       "\n",
       "        \n",
       "&lt;/head&gt;\n",
       "&lt;body&gt;\n",
       "    \n",
       "    \n",
       "            &lt;div class=&quot;folium-map&quot; id=&quot;map_a857e16d9328b72611a3a0413480dfa2&quot; &gt;&lt;/div&gt;\n",
       "        \n",
       "&lt;/body&gt;\n",
       "&lt;script&gt;\n",
       "    \n",
       "    \n",
       "            var map_a857e16d9328b72611a3a0413480dfa2 = L.map(\n",
       "                &quot;map_a857e16d9328b72611a3a0413480dfa2&quot;,\n",
       "                {\n",
       "                    center: [48.834032, 2.2655777],\n",
       "                    crs: L.CRS.EPSG3857,\n",
       "                    ...{\n",
       "  &quot;zoom&quot;: 13,\n",
       "  &quot;zoomControl&quot;: true,\n",
       "  &quot;preferCanvas&quot;: false,\n",
       "}\n",
       "\n",
       "                }\n",
       "            );\n",
       "\n",
       "            \n",
       "\n",
       "        \n",
       "    \n",
       "            var tile_layer_1b847497f5aee3616ed6f4e522523e4a = L.tileLayer(\n",
       "                &quot;https://server.arcgisonline.com/ArcGIS/rest/services/World_Imagery/MapServer/tile/{z}/{y}/{x}&quot;,\n",
       "                {\n",
       "  &quot;minZoom&quot;: 0,\n",
       "  &quot;maxZoom&quot;: 18,\n",
       "  &quot;maxNativeZoom&quot;: 18,\n",
       "  &quot;noWrap&quot;: false,\n",
       "  &quot;attribution&quot;: &quot;Tiles \\u0026copy; Esri \\u0026mdash; Source: Esri, i-cubed, USDA, USGS, AEX, GeoEye, Getmapping, Aerogrid, IGN, IGP, UPR-EGP, and the GIS User Community&quot;,\n",
       "  &quot;subdomains&quot;: &quot;abc&quot;,\n",
       "  &quot;detectRetina&quot;: false,\n",
       "  &quot;tms&quot;: false,\n",
       "  &quot;opacity&quot;: 1,\n",
       "}\n",
       "\n",
       "            );\n",
       "        \n",
       "    \n",
       "            tile_layer_1b847497f5aee3616ed6f4e522523e4a.addTo(map_a857e16d9328b72611a3a0413480dfa2);\n",
       "        \n",
       "    \n",
       "            var tile_layer_7e2e2a01510c511efe8b3ad342ee27ff = L.tileLayer(\n",
       "                &quot;https://tile.openstreetmap.org/{z}/{x}/{y}.png&quot;,\n",
       "                {\n",
       "  &quot;minZoom&quot;: 0,\n",
       "  &quot;maxZoom&quot;: 19,\n",
       "  &quot;maxNativeZoom&quot;: 19,\n",
       "  &quot;noWrap&quot;: false,\n",
       "  &quot;attribution&quot;: &quot;\\u0026copy; \\u003ca href=\\&quot;https://www.openstreetmap.org/copyright\\&quot;\\u003eOpenStreetMap\\u003c/a\\u003e contributors&quot;,\n",
       "  &quot;subdomains&quot;: &quot;abc&quot;,\n",
       "  &quot;detectRetina&quot;: false,\n",
       "  &quot;tms&quot;: false,\n",
       "  &quot;opacity&quot;: 1,\n",
       "}\n",
       "\n",
       "            );\n",
       "        \n",
       "    \n",
       "            tile_layer_7e2e2a01510c511efe8b3ad342ee27ff.addTo(map_a857e16d9328b72611a3a0413480dfa2);\n",
       "        \n",
       "    \n",
       "            var tile_layer_aae87ce4ac020795aae421aec570b16c = L.tileLayer(\n",
       "                &quot;https://server.arcgisonline.com/ArcGIS/rest/services/World_Imagery/MapServer/tile/{z}/{y}/{x}&quot;,\n",
       "                {\n",
       "  &quot;minZoom&quot;: 0,\n",
       "  &quot;maxZoom&quot;: 18,\n",
       "  &quot;maxNativeZoom&quot;: 18,\n",
       "  &quot;noWrap&quot;: false,\n",
       "  &quot;attribution&quot;: &quot;Tiles \\u0026copy; Esri \\u0026mdash; Source: Esri, i-cubed, USDA, USGS, AEX, GeoEye, Getmapping, Aerogrid, IGN, IGP, UPR-EGP, and the GIS User Community&quot;,\n",
       "  &quot;subdomains&quot;: &quot;abc&quot;,\n",
       "  &quot;detectRetina&quot;: false,\n",
       "  &quot;tms&quot;: false,\n",
       "  &quot;opacity&quot;: 1,\n",
       "}\n",
       "\n",
       "            );\n",
       "        \n",
       "    \n",
       "            tile_layer_aae87ce4ac020795aae421aec570b16c.addTo(map_a857e16d9328b72611a3a0413480dfa2);\n",
       "        \n",
       "    \n",
       "            var layer_control_b2344106aab2a5cc01cc3f059c502f05_layers = {\n",
       "                base_layers : {\n",
       "                    &quot;esriworldimagery&quot; : tile_layer_aae87ce4ac020795aae421aec570b16c,\n",
       "                    &quot;openstreetmap&quot; : tile_layer_7e2e2a01510c511efe8b3ad342ee27ff,\n",
       "                },\n",
       "                overlays :  {\n",
       "                },\n",
       "            };\n",
       "            let layer_control_b2344106aab2a5cc01cc3f059c502f05 = L.control.layers(\n",
       "                layer_control_b2344106aab2a5cc01cc3f059c502f05_layers.base_layers,\n",
       "                layer_control_b2344106aab2a5cc01cc3f059c502f05_layers.overlays,\n",
       "                {\n",
       "  &quot;position&quot;: &quot;topright&quot;,\n",
       "  &quot;collapsed&quot;: true,\n",
       "  &quot;autoZIndex&quot;: true,\n",
       "}\n",
       "            ).addTo(map_a857e16d9328b72611a3a0413480dfa2);\n",
       "\n",
       "        \n",
       "    \n",
       "            var marker_44ae33cad7e004ca8ef4810250f0a5d5 = L.marker(\n",
       "                [48.834032, 2.2655777],\n",
       "                {\n",
       "}\n",
       "            ).addTo(map_a857e16d9328b72611a3a0413480dfa2);\n",
       "        \n",
       "    \n",
       "        var popup_4e579b8950078640947cfe66d184c634 = L.popup({\n",
       "  &quot;maxWidth&quot;: &quot;100%&quot;,\n",
       "});\n",
       "\n",
       "        \n",
       "            \n",
       "                var html_12fc4668d0f680a3d8493274e2bf7479 = $(`&lt;div id=&quot;html_12fc4668d0f680a3d8493274e2bf7479&quot; style=&quot;width: 100.0%; height: 100.0%;&quot;&gt;39 Quai du Président Roosevelt, 92130 Issy-les-Moulineaux, France&lt;/div&gt;`)[0];\n",
       "                popup_4e579b8950078640947cfe66d184c634.setContent(html_12fc4668d0f680a3d8493274e2bf7479);\n",
       "            \n",
       "        \n",
       "\n",
       "        marker_44ae33cad7e004ca8ef4810250f0a5d5.bindPopup(popup_4e579b8950078640947cfe66d184c634)\n",
       "        ;\n",
       "\n",
       "        \n",
       "    \n",
       "    \n",
       "            tile_layer_1b847497f5aee3616ed6f4e522523e4a.addTo(map_a857e16d9328b72611a3a0413480dfa2);\n",
       "        \n",
       "    \n",
       "            tile_layer_7e2e2a01510c511efe8b3ad342ee27ff.addTo(map_a857e16d9328b72611a3a0413480dfa2);\n",
       "        \n",
       "    \n",
       "            tile_layer_aae87ce4ac020795aae421aec570b16c.addTo(map_a857e16d9328b72611a3a0413480dfa2);\n",
       "        \n",
       "&lt;/script&gt;\n",
       "&lt;/html&gt;\" style=\"position:absolute;width:100%;height:100%;left:0;top:0;border:none !important;\" allowfullscreen webkitallowfullscreen mozallowfullscreen></iframe></div></div>"
      ],
      "text/plain": [
       "<folium.folium.Map at 0x7fb436d23c10>"
      ]
     },
     "execution_count": 19,
     "metadata": {},
     "output_type": "execute_result"
    }
   ],
   "source": [
    "m"
   ]
  },
  {
   "cell_type": "code",
   "execution_count": null,
   "id": "58c49929-8e57-459b-98c5-e757fff71c91",
   "metadata": {},
   "outputs": [],
   "source": []
  },
  {
   "cell_type": "code",
   "execution_count": null,
   "id": "45588457-5068-4e72-934d-d06b87869e41",
   "metadata": {},
   "outputs": [],
   "source": []
  }
 ],
 "metadata": {
  "kernelspec": {
   "display_name": "Python 3.10 - SDK v2",
   "language": "python",
   "name": "python310-sdkv2"
  },
  "language_info": {
   "codemirror_mode": {
    "name": "ipython",
    "version": 3
   },
   "file_extension": ".py",
   "mimetype": "text/x-python",
   "name": "python",
   "nbconvert_exporter": "python",
   "pygments_lexer": "ipython3",
   "version": "3.10.14"
  },
  "varInspector": {
   "cols": {
    "lenName": 16,
    "lenType": 16,
    "lenVar": 40
   },
   "kernels_config": {
    "python": {
     "delete_cmd_postfix": "",
     "delete_cmd_prefix": "del ",
     "library": "var_list.py",
     "varRefreshCmd": "print(var_dic_list())"
    },
    "r": {
     "delete_cmd_postfix": ") ",
     "delete_cmd_prefix": "rm(",
     "library": "var_list.r",
     "varRefreshCmd": "cat(var_dic_list()) "
    }
   },
   "types_to_exclude": [
    "module",
    "function",
    "builtin_function_or_method",
    "instance",
    "_Feature"
   ],
   "window_display": false
  }
 },
 "nbformat": 4,
 "nbformat_minor": 5
}
