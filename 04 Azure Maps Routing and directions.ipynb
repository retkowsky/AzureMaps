{
 "cells": [
  {
   "cell_type": "markdown",
   "id": "abdab394-faf0-4773-b711-0bb71007520f",
   "metadata": {},
   "source": [
    "# 4 Routing and directions\n",
    "\n",
    "https://azure.microsoft.com/en-us/products/azure-maps/?msockid=2e39c66c693c66a5151fd200687567d0\n",
    "\n",
    "https://learn.microsoft.com/en-us/azure/azure-maps/"
   ]
  },
  {
   "cell_type": "code",
   "execution_count": 1,
   "id": "6145fdaa-3908-4227-bc9a-6527d368fd19",
   "metadata": {},
   "outputs": [],
   "source": [
    "import folium\n",
    "import pandas as pd\n",
    "import os\n",
    "import polyline\n",
    "import requests\n",
    "import sys\n",
    "\n",
    "from datetime import datetime, timedelta\n",
    "from dotenv import load_dotenv\n",
    "from IPython.display import IFrame, FileLink\n",
    "from typing import List, Dict, Tuple, Optional"
   ]
  },
  {
   "cell_type": "markdown",
   "id": "a23d19d6-8097-4281-b2c5-38e41cd9a977",
   "metadata": {},
   "source": [
    "## Settings"
   ]
  },
  {
   "cell_type": "code",
   "execution_count": 2,
   "id": "8f50861e-887c-44fe-affe-24293fcedf51",
   "metadata": {},
   "outputs": [
    {
     "data": {
      "text/plain": [
       "'3.10.14 (main, May  6 2024, 19:42:50) [GCC 11.2.0]'"
      ]
     },
     "execution_count": 2,
     "metadata": {},
     "output_type": "execute_result"
    }
   ],
   "source": [
    "sys.version"
   ]
  },
  {
   "cell_type": "code",
   "execution_count": 3,
   "id": "05428632-3d87-4c33-8281-9f28697bfcd0",
   "metadata": {},
   "outputs": [
    {
     "data": {
      "text/plain": [
       "True"
      ]
     },
     "execution_count": 3,
     "metadata": {},
     "output_type": "execute_result"
    }
   ],
   "source": [
    "load_dotenv(\"azure.env\")"
   ]
  },
  {
   "cell_type": "code",
   "execution_count": 4,
   "id": "6b76dc22-02f3-4062-950f-1762cfe413f9",
   "metadata": {},
   "outputs": [],
   "source": [
    "RESULTS_DIR = \"results\"\n",
    "\n",
    "os.makedirs(RESULTS_DIR, exist_ok=True)"
   ]
  },
  {
   "cell_type": "code",
   "execution_count": 5,
   "id": "52204aad-5804-4634-9c4c-ffae93650be0",
   "metadata": {},
   "outputs": [],
   "source": [
    "class AzureMapsClient:\n",
    "    \"\"\"\n",
    "    Azure Maps API Client for Python\n",
    "    \"\"\"\n",
    "    def __init__(self, subscription_key: str):\n",
    "        \"\"\"\n",
    "        Initialize Azure Maps client\n",
    "        \n",
    "        Args:\n",
    "            subscription_key: Your Azure Maps subscription key\n",
    "        \"\"\"\n",
    "        self.subscription_key = subscription_key\n",
    "        self.base_url = \"https://atlas.microsoft.com\"\n",
    "\n",
    "    def _make_request(self, endpoint: str, params: Dict) -> Dict:\n",
    "        \"\"\"\n",
    "        Make authenticated request to Azure Maps API\n",
    "        \n",
    "        Args:\n",
    "            endpoint: API endpoint\n",
    "            params: Request parameters\n",
    "            \n",
    "        Returns:\n",
    "            API response as dictionary\n",
    "        \"\"\"\n",
    "        params['api-version'] = '1.0'\n",
    "        params['subscription-key'] = self.subscription_key\n",
    "\n",
    "        url = f\"{self.base_url}/{endpoint}\"\n",
    "\n",
    "        try:\n",
    "            response = requests.get(url, params=params)\n",
    "            response.raise_for_status()\n",
    "            return response.json()\n",
    "        except requests.exceptions.RequestException as e:\n",
    "            print(f\"API request failed: {e}\")\n",
    "            return {}"
   ]
  },
  {
   "cell_type": "code",
   "execution_count": 6,
   "id": "2cc403cc-a6d3-4d7d-afae-bd23f20715d7",
   "metadata": {},
   "outputs": [],
   "source": [
    "azure_maps = AzureMapsClient(os.getenv('AZURE_MAPS_KEY'))"
   ]
  },
  {
   "cell_type": "markdown",
   "id": "be30da71-6396-4335-9f5b-563ab30cd29d",
   "metadata": {},
   "source": [
    "## Helper"
   ]
  },
  {
   "cell_type": "code",
   "execution_count": 7,
   "id": "cd370929-88fc-41bf-8ee6-d509cf497026",
   "metadata": {},
   "outputs": [],
   "source": [
    "class RoutingDemo:\n",
    "    \"\"\"\n",
    "    Demonstrates Azure Maps routing capabilities\n",
    "    \"\"\"\n",
    "    def __init__(self, azure_maps_client):\n",
    "        self.client = azure_maps_client\n",
    "\n",
    "    def calculate_route(self,\n",
    "                        waypoints: List[Tuple[float, float]],\n",
    "                        travel_mode: str = \"car\",\n",
    "                        route_type: str = \"fastest\",\n",
    "                        avoid: List[str] = None,\n",
    "                        departure_time: str = None) -> Dict:\n",
    "        \"\"\"\n",
    "        Calculate route between waypoints\n",
    "        \n",
    "        Args:\n",
    "            waypoints: List of (latitude, longitude) tuples\n",
    "            travel_mode: Transportation mode (car, truck, taxi, bus, van, motorcycle, bicycle, pedestrian)\n",
    "            route_type: Route type (fastest, shortest, eco, thrilling)\n",
    "            avoid: List of road types to avoid (tollRoads, motorways, ferries, unpavedRoads, carpools)\n",
    "            departure_time: Departure time in ISO format\n",
    "            \n",
    "        Returns:\n",
    "            Route calculation results\n",
    "        \"\"\"\n",
    "        # Format waypoints as lat,lon pairs separated by colons\n",
    "        query_points = \":\".join([f\"{lat},{lon}\" for lat, lon in waypoints])\n",
    "\n",
    "        params = {\n",
    "            'query': query_points,\n",
    "            'travelMode': travel_mode,\n",
    "            'routeType': route_type,\n",
    "            'computeTravelTimeFor': 'all',\n",
    "            'sectionType': 'traffic'\n",
    "        }\n",
    "\n",
    "        if avoid:\n",
    "            params['avoid'] = \",\".join(avoid)\n",
    "\n",
    "        if departure_time:\n",
    "            params['departAt'] = departure_time\n",
    "\n",
    "        response = self.client._make_request('route/directions/json', params)\n",
    "        return response\n",
    "\n",
    "    def optimize_waypoints(self,\n",
    "                           waypoints: List[Tuple[float, float]],\n",
    "                           start_index: int = 0,\n",
    "                           end_index: int = None) -> Dict:\n",
    "        \"\"\"\n",
    "        Optimize the order of waypoints for shortest travel time\n",
    "        \n",
    "        Args:\n",
    "            waypoints: List of waypoints to optimize\n",
    "            start_index: Index of starting waypoint\n",
    "            end_index: Index of ending waypoint (None for round trip)\n",
    "            \n",
    "        Returns:\n",
    "            Optimized route results\n",
    "        \"\"\"\n",
    "        # Format waypoints for optimization\n",
    "        query_points = \":\".join([f\"{lat},{lon}\" for lat, lon in waypoints])\n",
    "\n",
    "        params = {\n",
    "            'query': query_points,\n",
    "            'computeOptimalOrder': 'true',\n",
    "            'travelMode': 'car'\n",
    "        }\n",
    "\n",
    "        if start_index is not None:\n",
    "            params['optimizeWaypointOrder'] = f\"{start_index}\"\n",
    "\n",
    "        if end_index is not None:\n",
    "            params['optimizeWaypointOrder'] = f\"{start_index}:{end_index}\"\n",
    "\n",
    "        response = self.client._make_request('route/directions/json', params)\n",
    "        return response"
   ]
  },
  {
   "cell_type": "markdown",
   "id": "33111e7a-e473-4408-8251-6b323338efac",
   "metadata": {},
   "source": [
    "## Examples"
   ]
  },
  {
   "cell_type": "code",
   "execution_count": 8,
   "id": "bbdc1744-c436-43ee-b18b-8929000679d2",
   "metadata": {},
   "outputs": [],
   "source": [
    "routing = RoutingDemo(azure_maps)"
   ]
  },
  {
   "cell_type": "markdown",
   "id": "24eba399-cd5f-47b6-9f4c-ec55d233501c",
   "metadata": {},
   "source": [
    "### Example 1: Basic Route Calculation"
   ]
  },
  {
   "cell_type": "code",
   "execution_count": 9,
   "id": "7e51d929-1f37-44b3-86cf-bbfe0795e259",
   "metadata": {},
   "outputs": [
    {
     "name": "stdout",
     "output_type": "stream",
     "text": [
      "Route Summary:\n",
      "  Distance: 152.1 km\n",
      "  Travel Time: 94 minutes\n",
      "  Traffic Delay: 0 minutes\n",
      "  Departure Time: 2025-09-01T04:02:05-04:00\n",
      "  Arrival Time: 2025-09-01T05:36:58-04:00\n"
     ]
    }
   ],
   "source": [
    "# Define waypoints\n",
    "nyc_coords = (40.7128, -74.0060)  # New York City\n",
    "philly_coords = (39.9526, -75.1652)  # Philadelphia\n",
    "\n",
    "route_result = routing.calculate_route([nyc_coords, philly_coords])\n",
    "\n",
    "if route_result and 'routes' in route_result:\n",
    "    route = route_result['routes'][0]\n",
    "    summary = route['summary']\n",
    "\n",
    "    print(f\"Route Summary:\")\n",
    "    print(f\"  Distance: {summary['lengthInMeters'] / 1000:.1f} km\")\n",
    "    print(f\"  Travel Time: {summary['travelTimeInSeconds'] // 60} minutes\")\n",
    "    print(\n",
    "        f\"  Traffic Delay: {summary.get('trafficDelayInSeconds', 0) // 60} minutes\"\n",
    "    )\n",
    "    print(f\"  Departure Time: {summary.get('departureTime', 'N/A')}\")\n",
    "    print(f\"  Arrival Time: {summary.get('arrivalTime', 'N/A')}\")"
   ]
  },
  {
   "cell_type": "markdown",
   "id": "52b503fe-8b5b-4ad6-b602-09c92b03de01",
   "metadata": {},
   "source": [
    "### Example 2: Multi-stop Route"
   ]
  },
  {
   "cell_type": "code",
   "execution_count": 10,
   "id": "6e9a54ac-29af-4ead-9508-8246a71d9b1b",
   "metadata": {},
   "outputs": [
    {
     "name": "stdout",
     "output_type": "stream",
     "text": [
      "Multi-stop Route Summary:\n",
      "  Total Distance: 1409.1 km\n",
      "  Total Travel Time: 14.0 hours\n",
      "\n",
      "Leg Details:\n",
      "  New York → Philadelphia:\n",
      "    Distance: 152.1 km\n",
      "    Time: 94 minutes\n",
      "  Philadelphia → Washington DC:\n",
      "    Distance: 221.7 km\n",
      "    Time: 168 minutes\n",
      "  Washington DC → Charlotte:\n",
      "    Distance: 642.3 km\n",
      "    Time: 354 minutes\n",
      "  Charlotte → Atlanta:\n",
      "    Distance: 393.0 km\n",
      "    Time: 237 minutes\n"
     ]
    }
   ],
   "source": [
    "# Define multiple waypoints\n",
    "east_coast_trip = [\n",
    "    (40.7128, -74.0060),  # New York City\n",
    "    (39.9526, -75.1652),  # Philadelphia\n",
    "    (38.9072, -77.0369),  # Washington DC\n",
    "    (35.2271, -80.8431),  # Charlotte\n",
    "    (33.7490, -84.3880),  # Atlanta\n",
    "]\n",
    "\n",
    "city_names = [\n",
    "    \"New York\", \"Philadelphia\", \"Washington DC\", \"Charlotte\", \"Atlanta\"\n",
    "]\n",
    "\n",
    "multi_route = routing.calculate_route(east_coast_trip, route_type=\"fastest\")\n",
    "\n",
    "if multi_route and 'routes' in multi_route:\n",
    "    route = multi_route['routes'][0]\n",
    "    summary = route['summary']\n",
    "\n",
    "    print(f\"Multi-stop Route Summary:\")\n",
    "    print(f\"  Total Distance: {summary['lengthInMeters'] / 1000:.1f} km\")\n",
    "    print(\n",
    "        f\"  Total Travel Time: {summary['travelTimeInSeconds'] // 3600:.1f} hours\"\n",
    "    )\n",
    "\n",
    "    # Show leg details\n",
    "    if 'legs' in route:\n",
    "        print(f\"\\nLeg Details:\")\n",
    "        for i, leg in enumerate(route['legs']):\n",
    "            leg_summary = leg['summary']\n",
    "            start_city = city_names[i]\n",
    "            end_city = city_names[i + 1]\n",
    "\n",
    "            print(f\"  {start_city} → {end_city}:\")\n",
    "            print(\n",
    "                f\"    Distance: {leg_summary['lengthInMeters'] / 1000:.1f} km\")\n",
    "            print(\n",
    "                f\"    Time: {leg_summary['travelTimeInSeconds'] // 60} minutes\"\n",
    "            )"
   ]
  },
  {
   "cell_type": "markdown",
   "id": "87898d5e-9324-40c6-9669-607caa78faca",
   "metadata": {},
   "source": [
    "### Example 3: Different Transportation Modes"
   ]
  },
  {
   "cell_type": "code",
   "execution_count": 11,
   "id": "6f00464d-c3ed-4425-860a-0490be786d56",
   "metadata": {},
   "outputs": [
    {
     "name": "stdout",
     "output_type": "stream",
     "text": [
      "Transportation Mode Comparison (Times Square to Empire State Building):\n",
      "  Pedestrian: 1.27 km, 15.2 minutes\n",
      "  Bicycle: 1.28 km, 5.2 minutes\n",
      "  Car: 1.53 km, 7.0 minutes\n",
      "  Taxi: 1.53 km, 7.1 minutes\n"
     ]
    }
   ],
   "source": [
    "# Compare different modes between two points\n",
    "start_point = (40.7589, -73.9851)  # Times Square\n",
    "end_point = (40.7505, -73.9934)  # Empire State Building\n",
    "\n",
    "transportation_modes = [\"pedestrian\", \"bicycle\", \"car\", \"taxi\"]\n",
    "\n",
    "mode_results = {}\n",
    "for mode in transportation_modes:\n",
    "    result = routing.calculate_route([start_point, end_point],\n",
    "                                     travel_mode=mode)\n",
    "\n",
    "    if result and 'routes' in result:\n",
    "        summary = result['routes'][0]['summary']\n",
    "        mode_results[mode] = {\n",
    "            'distance': summary['lengthInMeters'] / 1000,\n",
    "            'time': summary['travelTimeInSeconds'] / 60\n",
    "        }\n",
    "\n",
    "print(\n",
    "    \"Transportation Mode Comparison (Times Square to Empire State Building):\")\n",
    "for mode, data in mode_results.items():\n",
    "    print(\n",
    "        f\"  {mode.title()}: {data['distance']:.2f} km, {data['time']:.1f} minutes\"\n",
    "    )"
   ]
  },
  {
   "cell_type": "markdown",
   "id": "7bf78a44-74e1-43a4-944c-d17b1a520c00",
   "metadata": {},
   "source": [
    "### Example 4: Route with Avoidances"
   ]
  },
  {
   "cell_type": "code",
   "execution_count": 12,
   "id": "11b836d5-15e1-4718-8f51-910e797e071d",
   "metadata": {},
   "outputs": [
    {
     "name": "stdout",
     "output_type": "stream",
     "text": [
      "Route Avoidance Comparison (NYC to Philadelphia):\n",
      "  Normal Route: 152.1 km, 95 minutes\n",
      "  No Tolls: 150.8 km, 112 minutes\n",
      "  No Highways: 160.5 km, 174 minutes\n"
     ]
    }
   ],
   "source": [
    "# Calculate route avoiding tolls and motorways\n",
    "route_normal = routing.calculate_route([nyc_coords, philly_coords])\n",
    "route_no_tolls = routing.calculate_route([nyc_coords, philly_coords],\n",
    "                                         avoid=[\"tollRoads\"])\n",
    "route_no_highways = routing.calculate_route([nyc_coords, philly_coords],\n",
    "                                            avoid=[\"motorways\"])\n",
    "\n",
    "routes_comparison = {\n",
    "    \"Normal Route\": route_normal,\n",
    "    \"No Tolls\": route_no_tolls,\n",
    "    \"No Highways\": route_no_highways\n",
    "}\n",
    "\n",
    "print(\"Route Avoidance Comparison (NYC to Philadelphia):\")\n",
    "for route_name, result in routes_comparison.items():\n",
    "    if result and 'routes' in result:\n",
    "        summary = result['routes'][0]['summary']\n",
    "        distance = summary['lengthInMeters'] / 1000\n",
    "        time = summary['travelTimeInSeconds'] / 60\n",
    "        print(f\"  {route_name}: {distance:.1f} km, {time:.0f} minutes\")"
   ]
  },
  {
   "cell_type": "markdown",
   "id": "232fb17b-f161-4482-9723-c112efcff861",
   "metadata": {},
   "source": [
    "### Example 5: Create Route Visualization Map"
   ]
  },
  {
   "cell_type": "code",
   "execution_count": 13,
   "id": "b31d0479-dd8e-4164-b8b7-8e70e519e3cc",
   "metadata": {},
   "outputs": [
    {
     "name": "stdout",
     "output_type": "stream",
     "text": [
      "✅ Map saved as results/azure_maps_route_demo.html\n"
     ]
    }
   ],
   "source": [
    "def create_route_map(route_data: Dict,\n",
    "                     waypoints: List[Tuple[float, float]],\n",
    "                     waypoint_names: List[str] = None) -> folium.Map:\n",
    "    \"\"\"\n",
    "    Create folium map with route visualization\n",
    "    \n",
    "    Args:\n",
    "        route_data: Route calculation result\n",
    "        waypoints: List of waypoint coordinates\n",
    "        waypoint_names: Optional names for waypoints\n",
    "        \n",
    "    Returns:\n",
    "        Folium map with route\n",
    "    \"\"\"\n",
    "    if not route_data or 'routes' not in route_data:\n",
    "        return None\n",
    "\n",
    "    route = route_data['routes'][0]\n",
    "\n",
    "    # Calculate map center\n",
    "    center_lat = sum(lat for lat, lon in waypoints) / len(waypoints)\n",
    "    center_lon = sum(lon for lat, lon in waypoints) / len(waypoints)\n",
    "\n",
    "    # Create map\n",
    "    m = folium.Map(location=[center_lat, center_lon],\n",
    "                   zoom_start=8,\n",
    "                   tiles='OpenStreetMap')\n",
    "\n",
    "    # Add route polyline if available\n",
    "    if 'legs' in route:\n",
    "        route_coords = []\n",
    "        for leg in route['legs']:\n",
    "            if 'points' in leg:\n",
    "                for point in leg['points']:\n",
    "                    if 'latitude' in point and 'longitude' in point:\n",
    "                        route_coords.append(\n",
    "                            [point['latitude'], point['longitude']])\n",
    "\n",
    "        if route_coords:\n",
    "            folium.PolyLine(locations=route_coords,\n",
    "                            color='blue',\n",
    "                            weight=4,\n",
    "                            opacity=0.8).add_to(m)\n",
    "\n",
    "    # Add waypoint markers\n",
    "    for i, (lat, lon) in enumerate(waypoints):\n",
    "        name = waypoint_names[i] if waypoint_names and i < len(\n",
    "            waypoint_names) else f\"Point {i+1}\"\n",
    "\n",
    "        icon_color = 'green' if i == 0 else 'red' if i == len(\n",
    "            waypoints) - 1 else 'blue'\n",
    "        icon_symbol = 'play' if i == 0 else 'stop' if i == len(\n",
    "            waypoints) - 1 else 'pause'\n",
    "\n",
    "        folium.Marker(location=[lat, lon],\n",
    "                      popup=f\"<b>{name}</b>\",\n",
    "                      tooltip=name,\n",
    "                      icon=folium.Icon(color=icon_color,\n",
    "                                       icon=icon_symbol)).add_to(m)\n",
    "\n",
    "    return m\n",
    "\n",
    "\n",
    "# Create route map for the multi-stop trip\n",
    "if multi_route:\n",
    "    route_map = create_route_map(multi_route, east_coast_trip, city_names)\n",
    "    if route_map:\n",
    "\n",
    "        output_file = os.path.join(RESULTS_DIR, \"azure_maps_route_demo.html\")\n",
    "        route_map.save(output_file)\n",
    "        print(f\"✅ Map saved as {output_file}\")"
   ]
  },
  {
   "cell_type": "code",
   "execution_count": 14,
   "id": "2900d754-7828-46f8-9a4d-387250b7402b",
   "metadata": {},
   "outputs": [
    {
     "data": {
      "text/html": [
       "\n",
       "        <iframe\n",
       "            width=\"860\"\n",
       "            height=\"640\"\n",
       "            src=\"results/azure_maps_route_demo.html\"\n",
       "            frameborder=\"0\"\n",
       "            allowfullscreen\n",
       "            \n",
       "        ></iframe>\n",
       "        "
      ],
      "text/plain": [
       "<IPython.lib.display.IFrame at 0x7f1cd7febb50>"
      ]
     },
     "execution_count": 14,
     "metadata": {},
     "output_type": "execute_result"
    }
   ],
   "source": [
    "IFrame(src=output_file, width=860, height=640)"
   ]
  },
  {
   "cell_type": "code",
   "execution_count": 15,
   "id": "6be2d200-5a0e-4794-b6f3-e62437c1abc2",
   "metadata": {},
   "outputs": [
    {
     "data": {
      "text/html": [
       "<a href='results/azure_maps_route_demo.html' target='_blank'>results/azure_maps_route_demo.html</a><br>"
      ],
      "text/plain": [
       "/mnt/batch/tasks/shared/LS_root/mounts/clusters/seretkow8/code/Users/seretkow/azure maps/results/azure_maps_route_demo.html"
      ]
     },
     "execution_count": 15,
     "metadata": {},
     "output_type": "execute_result"
    }
   ],
   "source": [
    "map_link = FileLink(path=output_file)\n",
    "map_link"
   ]
  },
  {
   "cell_type": "markdown",
   "id": "1d8d24eb-dff3-40c9-ac2c-cd2288c19ba7",
   "metadata": {},
   "source": [
    "### Example 6: Route Optimization"
   ]
  },
  {
   "cell_type": "code",
   "execution_count": 16,
   "id": "2550d611-049b-43f9-a265-b35be0834b16",
   "metadata": {},
   "outputs": [
    {
     "name": "stdout",
     "output_type": "stream",
     "text": [
      "Optimized Delivery Route:\n",
      "  Total Distance: 32.2 km\n",
      "  Total Time: 58 minutes\n"
     ]
    }
   ],
   "source": [
    "# Define delivery points around a city\n",
    "seattle_center = (47.6062, -122.3321)\n",
    "\n",
    "delivery_points = [\n",
    "    (47.6062, -122.3321),  # Seattle Center (start)\n",
    "    (47.6205, -122.3493),  # Capitol Hill\n",
    "    (47.6097, -122.3331),  # Downtown\n",
    "    (47.6587, -122.3198),  # University District\n",
    "    (47.5952, -122.3316),  # Georgetown\n",
    "    (47.6694, -122.3843),  # Ballard\n",
    "    (47.6062, -122.3321),  # Return to start\n",
    "]\n",
    "\n",
    "location_names = [\n",
    "    \"Start/End\", \"Capitol Hill\", \"Downtown\", \"University District\",\n",
    "    \"Georgetown\", \"Ballard\", \"Start/End\"\n",
    "]\n",
    "\n",
    "# Calculate optimized route\n",
    "optimized_route = routing.optimize_waypoints(\n",
    "    delivery_points[:-1])  # Exclude duplicate end point\n",
    "\n",
    "if optimized_route and 'routes' in optimized_route:\n",
    "    route = optimized_route['routes'][0]\n",
    "    summary = route['summary']\n",
    "\n",
    "    print(\"Optimized Delivery Route:\")\n",
    "    print(f\"  Total Distance: {summary['lengthInMeters'] / 1000:.1f} km\")\n",
    "    print(f\"  Total Time: {summary['travelTimeInSeconds'] / 60:.0f} minutes\")\n",
    "\n",
    "    # Show optimized order if available\n",
    "    if 'optimizedWaypoints' in route:\n",
    "        print(\"\\nOptimized waypoint order:\")\n",
    "        for i, waypoint_index in enumerate(route['optimizedWaypoints']):\n",
    "            if waypoint_index < len(location_names):\n",
    "                print(f\"  {i+1}. {location_names[waypoint_index]}\")"
   ]
  },
  {
   "cell_type": "code",
   "execution_count": null,
   "id": "bffa544e-bd71-4740-8e52-8e94fdb6b3e4",
   "metadata": {},
   "outputs": [],
   "source": []
  }
 ],
 "metadata": {
  "kernelspec": {
   "display_name": "Python 3.10 - SDK v2",
   "language": "python",
   "name": "python310-sdkv2"
  },
  "language_info": {
   "codemirror_mode": {
    "name": "ipython",
    "version": 3
   },
   "file_extension": ".py",
   "mimetype": "text/x-python",
   "name": "python",
   "nbconvert_exporter": "python",
   "pygments_lexer": "ipython3",
   "version": "3.10.14"
  },
  "varInspector": {
   "cols": {
    "lenName": 16,
    "lenType": 16,
    "lenVar": 40
   },
   "kernels_config": {
    "python": {
     "delete_cmd_postfix": "",
     "delete_cmd_prefix": "del ",
     "library": "var_list.py",
     "varRefreshCmd": "print(var_dic_list())"
    },
    "r": {
     "delete_cmd_postfix": ") ",
     "delete_cmd_prefix": "rm(",
     "library": "var_list.r",
     "varRefreshCmd": "cat(var_dic_list()) "
    }
   },
   "types_to_exclude": [
    "module",
    "function",
    "builtin_function_or_method",
    "instance",
    "_Feature"
   ],
   "window_display": false
  }
 },
 "nbformat": 4,
 "nbformat_minor": 5
}
