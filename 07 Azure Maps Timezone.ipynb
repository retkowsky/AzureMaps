{
 "cells": [
  {
   "cell_type": "markdown",
   "id": "f3ec1eff-f132-46b7-819a-ea1f50ba3262",
   "metadata": {},
   "source": [
    "# Timezone - Get Timezone By Coordinates\n",
    "\n",
    "https://azure.microsoft.com/en-us/products/azure-maps/?msockid=2e39c66c693c66a5151fd200687567d0\n",
    "\n",
    "https://learn.microsoft.com/en-us/azure/azure-maps/"
   ]
  },
  {
   "cell_type": "code",
   "execution_count": 1,
   "id": "9020ebab-4df9-4c25-9303-80a1e817f5b9",
   "metadata": {},
   "outputs": [],
   "source": [
    "import json\n",
    "import os\n",
    "import requests\n",
    "import sys\n",
    "\n",
    "from datetime import datetime\n",
    "from dotenv import load_dotenv\n",
    "from typing import Optional, Dict, Any"
   ]
  },
  {
   "cell_type": "code",
   "execution_count": 2,
   "id": "c48fe772-88dd-467d-b686-9db0be225ee8",
   "metadata": {},
   "outputs": [
    {
     "data": {
      "text/plain": [
       "True"
      ]
     },
     "execution_count": 2,
     "metadata": {},
     "output_type": "execute_result"
    }
   ],
   "source": [
    "load_dotenv(\"azure.env\")"
   ]
  },
  {
   "cell_type": "code",
   "execution_count": 3,
   "id": "01e9ab72-902c-452f-9039-d210fce8faa4",
   "metadata": {},
   "outputs": [
    {
     "data": {
      "text/plain": [
       "'3.10.14 (main, May  6 2024, 19:42:50) [GCC 11.2.0]'"
      ]
     },
     "execution_count": 3,
     "metadata": {},
     "output_type": "execute_result"
    }
   ],
   "source": [
    "sys.version"
   ]
  },
  {
   "cell_type": "markdown",
   "id": "00e29999-d0a9-452f-b3c9-1274447b6d3f",
   "metadata": {},
   "source": [
    "## Helper"
   ]
  },
  {
   "cell_type": "code",
   "execution_count": 4,
   "id": "0c0718f4-e05e-4314-b702-7ade803ddce4",
   "metadata": {},
   "outputs": [],
   "source": [
    "class AzureMapsTimezone:\n",
    "    \"\"\"\n",
    "    Azure Maps Timezone API client for getting timezone information by coordinates.\n",
    "    \n",
    "    API Reference: https://docs.microsoft.com/en-us/rest/api/maps/timezone/gettimezonebycoordinates\n",
    "    \"\"\"\n",
    "    \n",
    "    def __init__(self, subscription_key: str):\n",
    "        \"\"\"\n",
    "        Initialize the Azure Maps Timezone client.\n",
    "        \n",
    "        Args:\n",
    "            subscription_key (str): Your Azure Maps subscription key\n",
    "        \"\"\"\n",
    "        self.subscription_key = subscription_key\n",
    "        self.base_url = \"https://atlas.microsoft.com/timezone/byCoordinates/json\"\n",
    "        \n",
    "    def get_timezone_by_coordinates(\n",
    "        self, \n",
    "        latitude: float, \n",
    "        longitude: float,\n",
    "        timestamp: Optional[str] = None,\n",
    "        accept_datetime: Optional[str] = None,\n",
    "        api_version: str = \"1.0\"\n",
    "    ) -> Dict[str, Any]:\n",
    "        \"\"\"\n",
    "        Get timezone information for given coordinates.\n",
    "        \n",
    "        Args:\n",
    "            latitude (float): Latitude coordinate (-90 to 90)\n",
    "            longitude (float): Longitude coordinate (-180 to 180)\n",
    "            timestamp (str, optional): Reference time in ISO 8601 format (e.g., \"2023-01-15T12:00:00Z\")\n",
    "            accept_datetime (str, optional): Alternative timestamp format\n",
    "            api_version (str): API version (default: \"1.0\")\n",
    "            \n",
    "        Returns:\n",
    "            Dict[str, Any]: Timezone information including ID, offset, and names\n",
    "            \n",
    "        Raises:\n",
    "            requests.RequestException: If the API request fails\n",
    "            ValueError: If coordinates are invalid\n",
    "        \"\"\"\n",
    "        # Validate coordinates\n",
    "        if not -90 <= latitude <= 90:\n",
    "            raise ValueError(\"Latitude must be between -90 and 90 degrees\")\n",
    "        if not -180 <= longitude <= 180:\n",
    "            raise ValueError(\"Longitude must be between -180 and 180 degrees\")\n",
    "            \n",
    "        # Prepare query parameters\n",
    "        params = {\n",
    "            \"api-version\": api_version,\n",
    "            \"subscription-key\": self.subscription_key,\n",
    "            \"query\": f\"{latitude},{longitude}\"\n",
    "        }\n",
    "        \n",
    "        # Add optional parameters\n",
    "        if timestamp:\n",
    "            params[\"timeStamp\"] = timestamp\n",
    "        if accept_datetime:\n",
    "            params[\"Accept-Datetime\"] = accept_datetime\n",
    "            \n",
    "        # Make the API request\n",
    "        try:\n",
    "            response = requests.get(self.base_url, params=params, timeout=30)\n",
    "            response.raise_for_status()  # Raises HTTPError for bad responses\n",
    "            \n",
    "            return response.json()\n",
    "            \n",
    "        except requests.RequestException as e:\n",
    "            raise requests.RequestException(f\"Failed to get timezone data: {str(e)}\")\n",
    "    \n",
    "    def get_current_timezone(self, latitude: float, longitude: float) -> Dict[str, Any]:\n",
    "        \"\"\"\n",
    "        Get current timezone information for given coordinates.\n",
    "        \n",
    "        Args:\n",
    "            latitude (float): Latitude coordinate\n",
    "            longitude (float): Longitude coordinate\n",
    "            \n",
    "        Returns:\n",
    "            Dict[str, Any]: Current timezone information\n",
    "        \"\"\"\n",
    "        current_timestamp = datetime.utcnow().strftime(\"%Y-%m-%dT%H:%M:%SZ\")\n",
    "        return self.get_timezone_by_coordinates(latitude, longitude, timestamp=current_timestamp)\n"
   ]
  },
  {
   "cell_type": "markdown",
   "id": "48ec1150-ec0e-4b1d-995a-57a8530cc475",
   "metadata": {},
   "source": [
    "## Examples"
   ]
  },
  {
   "cell_type": "code",
   "execution_count": 5,
   "id": "13de8b98-3063-467e-a93e-0f7c5fde43b0",
   "metadata": {},
   "outputs": [],
   "source": [
    "timezone_client = AzureMapsTimezone(os.getenv('AZURE_MAPS_KEY'))"
   ]
  },
  {
   "cell_type": "code",
   "execution_count": 6,
   "id": "6591ae6a-9e3f-4723-904e-e870e5d956f1",
   "metadata": {},
   "outputs": [
    {
     "name": "stdout",
     "output_type": "stream",
     "text": [
      "Getting timezone for coordinates: 48.85341, 2.3488\n",
      "\n",
      "=== Timezone Information ===\n",
      "{\n",
      "  \"Version\": \"2025b\",\n",
      "  \"ReferenceUtcTimestamp\": \"2025-09-01T08:03:31Z\",\n",
      "  \"TimeZones\": [\n",
      "    {\n",
      "      \"Id\": \"Europe/Paris\",\n",
      "      \"Names\": {\n",
      "        \"ISO6391LanguageCode\": \"en\",\n",
      "        \"Generic\": \"Central European Time\",\n",
      "        \"Standard\": \"Central European Standard Time\",\n",
      "        \"Daylight\": \"Central European Summer Time\"\n",
      "      },\n",
      "      \"ReferenceTime\": {\n",
      "        \"Tag\": \"CEST\",\n",
      "        \"StandardOffset\": \"01:00:00\",\n",
      "        \"DaylightSavings\": \"01:00:00\",\n",
      "        \"WallTime\": \"2025-09-01T10:03:31+02:00\",\n",
      "        \"PosixTzValidYear\": 2025,\n",
      "        \"PosixTz\": \"CET-1CEST,M3.5.0,M10.4.0/3\",\n",
      "        \"Sunrise\": \"2025-09-01T07:07:07.8811458+02:00\",\n",
      "        \"Sunset\": \"2025-09-01T20:34:19.8840349+02:00\"\n",
      "      }\n",
      "    }\n",
      "  ]\n",
      "}\n"
     ]
    }
   ],
   "source": [
    "latitude = 48.85341\n",
    "longitude = 2.3488\n",
    "\n",
    "print(f\"Getting timezone for coordinates: {latitude}, {longitude}\")\n",
    "        \n",
    "# Get current timezone information\n",
    "timezone_info = timezone_client.get_current_timezone(latitude, longitude)\n",
    "        \n",
    "# Display results\n",
    "print(\"\\n=== Timezone Information ===\")\n",
    "print(json.dumps(timezone_info, indent=2))"
   ]
  },
  {
   "cell_type": "code",
   "execution_count": 7,
   "id": "a0d81d9e-a18f-4062-ba59-63aaa6eb7e96",
   "metadata": {},
   "outputs": [
    {
     "name": "stdout",
     "output_type": "stream",
     "text": [
      "Timezone ID: Europe/Paris\n",
      "Standard Name: Central European Standard Time\n",
      "Daylight Name: Central European Summer Time\n",
      "UTC Offset: N/A\n"
     ]
    }
   ],
   "source": [
    "# Extract specific information\n",
    "if \"TimeZones\" in timezone_info and timezone_info[\"TimeZones\"]:\n",
    "    tz = timezone_info[\"TimeZones\"][0]\n",
    "    print(f\"Timezone ID: {tz.get('Id', 'N/A')}\")\n",
    "    print(f\"Standard Name: {tz.get('Names', {}).get('Standard', 'N/A')}\")\n",
    "    print(f\"Daylight Name: {tz.get('Names', {}).get('Daylight', 'N/A')}\")\n",
    "    print(f\"UTC Offset: {tz.get('ReferenceUtcTimestamp', 'N/A')}\")"
   ]
  },
  {
   "cell_type": "code",
   "execution_count": 8,
   "id": "019f75a5-e039-4d26-8e90-c16e4ad95ca4",
   "metadata": {},
   "outputs": [
    {
     "name": "stdout",
     "output_type": "stream",
     "text": [
      "Getting timezone for specific timestamp...\n",
      "\n",
      "Timezone info for 2023-07-15T12:00:00Z:\n",
      "{\n",
      "  \"Version\": \"2025b\",\n",
      "  \"ReferenceUtcTimestamp\": \"2023-07-15T12:00:00Z\",\n",
      "  \"TimeZones\": [\n",
      "    {\n",
      "      \"Id\": \"Europe/Paris\",\n",
      "      \"Names\": {\n",
      "        \"ISO6391LanguageCode\": \"en\",\n",
      "        \"Generic\": \"Central European Time\",\n",
      "        \"Standard\": \"Central European Standard Time\",\n",
      "        \"Daylight\": \"Central European Summer Time\"\n",
      "      },\n",
      "      \"ReferenceTime\": {\n",
      "        \"Tag\": \"CEST\",\n",
      "        \"StandardOffset\": \"01:00:00\",\n",
      "        \"DaylightSavings\": \"01:00:00\",\n",
      "        \"WallTime\": \"2023-07-15T14:00:00+02:00\",\n",
      "        \"PosixTzValidYear\": 2023,\n",
      "        \"PosixTz\": \"CET-1CEST,M3.4.0,M10.5.0/3\",\n",
      "        \"Sunrise\": \"2023-07-15T06:02:32.9709572+02:00\",\n",
      "        \"Sunset\": \"2023-07-15T21:50:30.0340793+02:00\"\n",
      "      }\n",
      "    }\n",
      "  ]\n",
      "}\n"
     ]
    }
   ],
   "source": [
    "# Example with specific timestamp\n",
    "print(\"Getting timezone for specific timestamp...\\n\")\n",
    "        \n",
    "specific_timestamp = \"2023-07-15T12:00:00Z\"\n",
    "timezone_info_specific = timezone_client.get_timezone_by_coordinates(latitude, longitude, timestamp=specific_timestamp)\n",
    "        \n",
    "print(f\"Timezone info for {specific_timestamp}:\")\n",
    "print(json.dumps(timezone_info_specific, indent=2))"
   ]
  },
  {
   "cell_type": "code",
   "execution_count": null,
   "id": "ae86dc5e-04a7-43ae-87a8-1433377c1771",
   "metadata": {},
   "outputs": [],
   "source": []
  }
 ],
 "metadata": {
  "kernelspec": {
   "display_name": "Python 3.10 - SDK v2",
   "language": "python",
   "name": "python310-sdkv2"
  },
  "language_info": {
   "codemirror_mode": {
    "name": "ipython",
    "version": 3
   },
   "file_extension": ".py",
   "mimetype": "text/x-python",
   "name": "python",
   "nbconvert_exporter": "python",
   "pygments_lexer": "ipython3",
   "version": "3.10.14"
  }
 },
 "nbformat": 4,
 "nbformat_minor": 5
}
