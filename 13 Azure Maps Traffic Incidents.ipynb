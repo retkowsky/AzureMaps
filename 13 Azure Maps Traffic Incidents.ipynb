{
 "cells": [
  {
   "cell_type": "markdown",
   "id": "c28b422f-06c2-4d8a-9388-8b0c21b39bba",
   "metadata": {},
   "source": [
    "# Azure Maps Traffic Incidents\n",
    "\n",
    "https://azure.microsoft.com/en-us/products/azure-maps/?msockid=2e39c66c693c66a5151fd200687567d0\n",
    "\n",
    "https://learn.microsoft.com/en-us/azure/azure-maps/"
   ]
  },
  {
   "cell_type": "code",
   "execution_count": 1,
   "id": "880f1c67-e55a-476b-a339-db58efad795b",
   "metadata": {},
   "outputs": [],
   "source": [
    "import os\n",
    "import json\n",
    "import folium\n",
    "import pandas as pd\n",
    "import requests\n",
    "import sys\n",
    "\n",
    "from dotenv import load_dotenv\n",
    "from IPython.display import IFrame, FileLink"
   ]
  },
  {
   "cell_type": "code",
   "execution_count": 2,
   "id": "d65200c8-47b3-4880-9e02-e2d947f2ac58",
   "metadata": {},
   "outputs": [
    {
     "data": {
      "text/plain": [
       "'3.10.14 (main, May  6 2024, 19:42:50) [GCC 11.2.0]'"
      ]
     },
     "execution_count": 2,
     "metadata": {},
     "output_type": "execute_result"
    }
   ],
   "source": [
    "sys.version"
   ]
  },
  {
   "cell_type": "code",
   "execution_count": 3,
   "id": "1d87c8ff-ae2e-4201-9d04-8e6497797cb0",
   "metadata": {},
   "outputs": [],
   "source": [
    "load_dotenv(\"azure.env\")\n",
    "\n",
    "subscription_key = os.getenv('AZURE_MAPS_KEY')"
   ]
  },
  {
   "cell_type": "code",
   "execution_count": 4,
   "id": "d7d37550-b041-440b-aa23-ffa1ac8697a2",
   "metadata": {},
   "outputs": [],
   "source": [
    "RESULTS_DIR = \"results\"\n",
    "\n",
    "os.makedirs(RESULTS_DIR, exist_ok=True)"
   ]
  },
  {
   "cell_type": "markdown",
   "id": "aa067a2b-af3b-4bbd-a376-57fc596f6fba",
   "metadata": {},
   "source": [
    "## Helper"
   ]
  },
  {
   "cell_type": "code",
   "execution_count": 5,
   "id": "16fbcef3-ed6a-43ab-b3ae-1d8a0aea8ee9",
   "metadata": {},
   "outputs": [],
   "source": [
    "def get_traffic_incidents(bbox, subscription_key=None, bearer_token=None):\n",
    "    \"\"\"\n",
    "    Fetch traffic incidents from Azure Maps.\n",
    "    \n",
    "    Parameters:\n",
    "        bbox (str): Bounding box in format \"lon1,lat1,lon2,lat2\".\n",
    "        api_key (str, optional): Azure Maps subscription key.\n",
    "        bearer_token (str, optional): Azure AD bearer token.\n",
    "    \n",
    "    Returns:\n",
    "        dict: JSON response with traffic incidents (if successful).\n",
    "    \"\"\"\n",
    "    url = \"https://atlas.microsoft.com/traffic/incident\"\n",
    "    params = {\"api-version\": \"2025-01-01\", \"bbox\": bbox}\n",
    "\n",
    "    headers = {}\n",
    "    if subscription_key:\n",
    "        headers[\"Subscription-Key\"] = subscription_key\n",
    "    elif bearer_token:\n",
    "        headers[\"Authorization\"] = f\"Bearer {bearer_token}\"\n",
    "    else:\n",
    "        raise ValueError(\n",
    "            \"You must provide either an api_key or a bearer_token.\")\n",
    "\n",
    "    response = requests.get(url, params=params, headers=headers)\n",
    "\n",
    "    if response.status_code == 200:\n",
    "        return response.json()\n",
    "    else:\n",
    "        raise Exception(\n",
    "            f\"Request failed: {response.status_code} - {response.text}\")"
   ]
  },
  {
   "cell_type": "markdown",
   "id": "e16110ea-4dd5-4ee4-b0d3-3a8a46d83efb",
   "metadata": {},
   "source": [
    "## Examples"
   ]
  },
  {
   "cell_type": "code",
   "execution_count": 9,
   "id": "5e719615-2990-4cee-9119-5389cb2d6a76",
   "metadata": {},
   "outputs": [
    {
     "name": "stdout",
     "output_type": "stream",
     "text": [
      "{\n",
      "    \"type\": \"FeatureCollection\",\n",
      "    \"features\": [\n",
      "        {\n",
      "            \"type\": \"Feature\",\n",
      "            \"id\": 12528037836014000,\n",
      "            \"geometry\": {\n",
      "                \"type\": \"Point\",\n",
      "                \"coordinates\": [\n",
      "                    -122.2890839684,\n",
      "                    47.4815784556\n",
      "                ]\n",
      "            },\n",
      "            \"properties\": {\n",
      "                \"incidentType\": \"Congestion\",\n",
      "                \"startTime\": \"2025-09-01T11:53:30Z\",\n",
      "                \"endTime\": \"2025-09-01T12:32:00Z\",\n",
      "                \"lastModifiedTime\": null,\n",
      "                \"description\": \"Backed up traffic 34th Ave S\",\n",
      "                \"severity\": 2,\n",
      "                \"isRoadClosed\": false,\n",
      "                \"title\": \"34th Ave S\",\n",
      "                \"isTrafficJam\": true,\n",
      "                \"delay\": 91,\n",
      "                \"endPoint\": {\n",
      "                    \"type\": \"Point\",\n",
      "                    \"coordinates\": [\n",
      "                        -122.2918184805,\n",
      "                        47.4816133503\n",
      "                    ]\n",
      "                }\n",
      "            }\n",
      "        },\n",
      "        {\n",
      "            \"type\": \"Feature\",\n",
      "            \"id\": 12539580620004000,\n",
      "            \"geometry\": {\n",
      "                \"type\": \"Point\",\n",
      "                \"coordinates\": [\n",
      "                    -122.1959858346,\n",
      "                    47.5323701424\n",
      "                ]\n",
      "            },\n",
      "            \"properties\": {\n",
      "                \"incidentType\": \"Construction\",\n",
      "                \"startTime\": \"2025-07-21T14:49:00Z\",\n",
      "                \"endTime\": null,\n",
      "                \"lastModifiedTime\": null,\n",
      "                \"description\": \"Roadworks NE 44th St\",\n",
      "                \"severity\": 0,\n",
      "                \"isRoadClosed\": false,\n",
      "                \"title\": \"NE 44th St\",\n",
      "                \"isTrafficJam\": false,\n",
      "                \"delay\": 0,\n",
      "                \"endPoint\": {\n",
      "                    \"type\": \"Point\",\n",
      "                    \"coordinates\": [\n",
      "                        -122.1959938813,\n",
      "                        47.5324787431\n",
      "                    ]\n",
      "                }\n",
      "            }\n",
      "        },\n",
      "        {\n",
      "            \"type\": \"Feature\",\n",
      "            \"id\": 12539580556012000,\n",
      "            \"geometry\": {\n",
      "                \"type\": \"Point\",\n",
      "                \"coordinates\": [\n",
      "                    -122.1957860101,\n",
      "                    47.5337581657\n",
      "                ]\n",
      "            },\n",
      "            \"properties\": {\n",
      "                \"incidentType\": \"Construction\",\n",
      "                \"startTime\": \"2025-07-21T12:22:30Z\",\n",
      "                \"endTime\": null,\n",
      "                \"lastModifiedTime\": null,\n",
      "                \"description\": \"Roadworks 112th Ave/SE 64th St (Lake Washington Ramp)\",\n",
      "                \"severity\": 0,\n",
      "                \"isRoadClosed\": false,\n",
      "                \"title\": \"112th Ave/SE 64th St (Lake Washington Ramp)\",\n",
      "                \"isTrafficJam\": false,\n",
      "                \"delay\": 0,\n",
      "                \"endPoint\": {\n",
      "                    \"type\": \"Point\",\n",
      "                    \"coordinates\": [\n",
      "                        -122.196003269,\n",
      "                        47.5326168847\n",
      "                    ]\n",
      "                }\n",
      "            }\n",
      "        },\n",
      "        {\n",
      "            \"type\": \"Feature\",\n",
      "            \"id\": 12551121780028000,\n",
      "            \"geometry\": {\n",
      "                \"type\": \"Point\",\n",
      "                \"coordinates\": [\n",
      "                    -122.195362221,\n",
      "                    47.4835968126\n",
      "                ]\n",
      "            },\n",
      "            \"properties\": {\n",
      "                \"incidentType\": \"Construction\",\n",
      "                \"startTime\": \"2025-08-13T11:30:00Z\",\n",
      "                \"endTime\": null,\n",
      "                \"lastModifiedTime\": null,\n",
      "                \"description\": \"Roadworks SE Maple Valley Hwy\",\n",
      "                \"severity\": 0,\n",
      "                \"isRoadClosed\": false,\n",
      "                \"title\": \"SE Maple Valley Hwy\",\n",
      "                \"isTrafficJam\": false,\n",
      "                \"delay\": 0,\n",
      "                \"endPoint\": {\n",
      "                    \"type\": \"Point\",\n",
      "                    \"coordinates\": [\n",
      "                        -122.194553535,\n",
      "                        47.4857627031\n",
      "                    ]\n",
      "                }\n",
      "            }\n",
      "        },\n",
      "        {\n",
      "            \"type\": \"Feature\",\n",
      "            \"id\": 12533809980064000,\n",
      "            \"geometry\": {\n",
      "                \"type\": \"Point\",\n",
      "                \"coordinates\": [\n",
      "                    -122.1925083506,\n",
      "                    47.553505914\n",
      "                ]\n",
      "            },\n",
      "            \"properties\": {\n",
      "                \"incidentType\": \"Construction\",\n",
      "                \"startTime\": \"2025-07-04T16:05:30Z\",\n",
      "                \"endTime\": null,\n",
      "                \"lastModifiedTime\": null,\n",
      "                \"description\": \"Roadworks 44th St/Exit 7 (I-405)\",\n",
      "                \"severity\": 0,\n",
      "                \"isRoadClosed\": false,\n",
      "                \"title\": \"44th St/Exit 7 (I-405)\",\n",
      "                \"isTrafficJam\": false,\n",
      "                \"delay\": 0,\n",
      "                \"endPoint\": {\n",
      "                    \"type\": \"Point\",\n",
      "                    \"coordinates\": [\n",
      "                        -122.1876320946,\n",
      "                        47.5603187115\n",
      "                    ]\n",
      "                }\n",
      "            }\n",
      "        },\n",
      "        {\n",
      "            \"type\": \"Feature\",\n",
      "            \"id\": 12519383828013000,\n",
      "            \"geometry\": {\n",
      "                \"type\": \"Point\",\n",
      "                \"coordinates\": [\n",
      "                    -122.1804330456,\n",
      "                    47.626757062\n",
      "                ]\n",
      "            },\n",
      "            \"properties\": {\n",
      "                \"incidentType\": \"Construction\",\n",
      "                \"startTime\": \"2025-07-29T20:29:18Z\",\n",
      "                \"endTime\": null,\n",
      "                \"lastModifiedTime\": null,\n",
      "                \"description\": \"Roadworks Northup Way (120th Ave NE)\",\n",
      "                \"severity\": 0,\n",
      "                \"isRoadClosed\": false,\n",
      "                \"title\": \"Northup Way (120th Ave NE)\",\n",
      "                \"isTrafficJam\": false,\n",
      "                \"delay\": 0,\n",
      "                \"endPoint\": {\n",
      "                    \"type\": \"Point\",\n",
      "                    \"coordinates\": [\n",
      "                        -122.1798925805,\n",
      "                        47.6256466172\n",
      "                    ]\n",
      "                }\n",
      "            }\n",
      "        }\n",
      "    ]\n",
      "}\n"
     ]
    }
   ],
   "source": [
    "bbox = \"-122.301659, 47.443546, -122.130821, 47.643543\"  # Format is <minLon,minLat,maxLon,maxLat>\n",
    "\n",
    "data = get_traffic_incidents(bbox, subscription_key)\n",
    "\n",
    "print(json.dumps(data, indent=4))"
   ]
  },
  {
   "cell_type": "code",
   "execution_count": 10,
   "id": "fd999b9e-2772-4a94-a2da-cc2c196f3702",
   "metadata": {},
   "outputs": [
    {
     "name": "stdout",
     "output_type": "stream",
     "text": [
      "🛑 Congestion | 34th Ave S\n",
      "   📍 Location: 47.4816, -122.2891\n",
      "   📝 Backed up traffic 34th Ave S\n",
      "   ⏰ 2025-09-01T11:53:30Z → 2025-09-01T12:32:00Z\n",
      "   🚦 Severity: 2, Delay: 91 sec\n",
      "\n",
      "🛑 Construction | NE 44th St\n",
      "   📍 Location: 47.5324, -122.1960\n",
      "   📝 Roadworks NE 44th St\n",
      "   ⏰ 2025-07-21T14:49:00Z → None\n",
      "   🚦 Severity: 0, Delay: 0 sec\n",
      "\n",
      "🛑 Construction | 112th Ave/SE 64th St (Lake Washington Ramp)\n",
      "   📍 Location: 47.5338, -122.1958\n",
      "   📝 Roadworks 112th Ave/SE 64th St (Lake Washington Ramp)\n",
      "   ⏰ 2025-07-21T12:22:30Z → None\n",
      "   🚦 Severity: 0, Delay: 0 sec\n",
      "\n",
      "🛑 Construction | SE Maple Valley Hwy\n",
      "   📍 Location: 47.4836, -122.1954\n",
      "   📝 Roadworks SE Maple Valley Hwy\n",
      "   ⏰ 2025-08-13T11:30:00Z → None\n",
      "   🚦 Severity: 0, Delay: 0 sec\n",
      "\n",
      "🛑 Construction | 44th St/Exit 7 (I-405)\n",
      "   📍 Location: 47.5535, -122.1925\n",
      "   📝 Roadworks 44th St/Exit 7 (I-405)\n",
      "   ⏰ 2025-07-04T16:05:30Z → None\n",
      "   🚦 Severity: 0, Delay: 0 sec\n",
      "\n",
      "🛑 Construction | Northup Way (120th Ave NE)\n",
      "   📍 Location: 47.6268, -122.1804\n",
      "   📝 Roadworks Northup Way (120th Ave NE)\n",
      "   ⏰ 2025-07-29T20:29:18Z → None\n",
      "   🚦 Severity: 0, Delay: 0 sec\n",
      "\n"
     ]
    }
   ],
   "source": [
    "for feature in data.get(\"features\", []):\n",
    "    props = feature[\"properties\"]\n",
    "    coords = feature[\"geometry\"][\"coordinates\"]\n",
    "    print(f\"🛑 {props['incidentType']} | {props['title']}\")\n",
    "    print(f\"   📍 Location: {coords[1]:.4f}, {coords[0]:.4f}\")\n",
    "    print(f\"   📝 {props['description']}\")\n",
    "    print(f\"   ⏰ {props['startTime']} → {props.get('endTime')}\")\n",
    "    print(f\"   🚦 Severity: {props['severity']}, Delay: {props['delay']} sec\")\n",
    "    print()"
   ]
  },
  {
   "cell_type": "code",
   "execution_count": 11,
   "id": "86f3fcd6-848d-4c21-b4c8-364275b8cffb",
   "metadata": {},
   "outputs": [
    {
     "data": {
      "text/html": [
       "<div>\n",
       "<style scoped>\n",
       "    .dataframe tbody tr th:only-of-type {\n",
       "        vertical-align: middle;\n",
       "    }\n",
       "\n",
       "    .dataframe tbody tr th {\n",
       "        vertical-align: top;\n",
       "    }\n",
       "\n",
       "    .dataframe thead th {\n",
       "        text-align: right;\n",
       "    }\n",
       "</style>\n",
       "<table border=\"1\" class=\"dataframe\">\n",
       "  <thead>\n",
       "    <tr style=\"text-align: right;\">\n",
       "      <th></th>\n",
       "      <th>Type</th>\n",
       "      <th>Title</th>\n",
       "      <th>Description</th>\n",
       "      <th>Latitude</th>\n",
       "      <th>Longitude</th>\n",
       "      <th>Severity</th>\n",
       "      <th>Delay (s)</th>\n",
       "      <th>Start</th>\n",
       "      <th>End</th>\n",
       "    </tr>\n",
       "  </thead>\n",
       "  <tbody>\n",
       "    <tr>\n",
       "      <th>0</th>\n",
       "      <td>Congestion</td>\n",
       "      <td>34th Ave S</td>\n",
       "      <td>Backed up traffic 34th Ave S</td>\n",
       "      <td>47.481578</td>\n",
       "      <td>-122.289084</td>\n",
       "      <td>2</td>\n",
       "      <td>91</td>\n",
       "      <td>2025-09-01T11:53:30Z</td>\n",
       "      <td>2025-09-01T12:32:00Z</td>\n",
       "    </tr>\n",
       "    <tr>\n",
       "      <th>1</th>\n",
       "      <td>Construction</td>\n",
       "      <td>NE 44th St</td>\n",
       "      <td>Roadworks NE 44th St</td>\n",
       "      <td>47.532370</td>\n",
       "      <td>-122.195986</td>\n",
       "      <td>0</td>\n",
       "      <td>0</td>\n",
       "      <td>2025-07-21T14:49:00Z</td>\n",
       "      <td>None</td>\n",
       "    </tr>\n",
       "    <tr>\n",
       "      <th>2</th>\n",
       "      <td>Construction</td>\n",
       "      <td>112th Ave/SE 64th St (Lake Washington Ramp)</td>\n",
       "      <td>Roadworks 112th Ave/SE 64th St (Lake Washingto...</td>\n",
       "      <td>47.533758</td>\n",
       "      <td>-122.195786</td>\n",
       "      <td>0</td>\n",
       "      <td>0</td>\n",
       "      <td>2025-07-21T12:22:30Z</td>\n",
       "      <td>None</td>\n",
       "    </tr>\n",
       "    <tr>\n",
       "      <th>3</th>\n",
       "      <td>Construction</td>\n",
       "      <td>SE Maple Valley Hwy</td>\n",
       "      <td>Roadworks SE Maple Valley Hwy</td>\n",
       "      <td>47.483597</td>\n",
       "      <td>-122.195362</td>\n",
       "      <td>0</td>\n",
       "      <td>0</td>\n",
       "      <td>2025-08-13T11:30:00Z</td>\n",
       "      <td>None</td>\n",
       "    </tr>\n",
       "    <tr>\n",
       "      <th>4</th>\n",
       "      <td>Construction</td>\n",
       "      <td>44th St/Exit 7 (I-405)</td>\n",
       "      <td>Roadworks 44th St/Exit 7 (I-405)</td>\n",
       "      <td>47.553506</td>\n",
       "      <td>-122.192508</td>\n",
       "      <td>0</td>\n",
       "      <td>0</td>\n",
       "      <td>2025-07-04T16:05:30Z</td>\n",
       "      <td>None</td>\n",
       "    </tr>\n",
       "    <tr>\n",
       "      <th>5</th>\n",
       "      <td>Construction</td>\n",
       "      <td>Northup Way (120th Ave NE)</td>\n",
       "      <td>Roadworks Northup Way (120th Ave NE)</td>\n",
       "      <td>47.626757</td>\n",
       "      <td>-122.180433</td>\n",
       "      <td>0</td>\n",
       "      <td>0</td>\n",
       "      <td>2025-07-29T20:29:18Z</td>\n",
       "      <td>None</td>\n",
       "    </tr>\n",
       "  </tbody>\n",
       "</table>\n",
       "</div>"
      ],
      "text/plain": [
       "           Type                                        Title  \\\n",
       "0    Congestion                                   34th Ave S   \n",
       "1  Construction                                   NE 44th St   \n",
       "2  Construction  112th Ave/SE 64th St (Lake Washington Ramp)   \n",
       "3  Construction                          SE Maple Valley Hwy   \n",
       "4  Construction                       44th St/Exit 7 (I-405)   \n",
       "5  Construction                   Northup Way (120th Ave NE)   \n",
       "\n",
       "                                         Description   Latitude   Longitude  \\\n",
       "0                       Backed up traffic 34th Ave S  47.481578 -122.289084   \n",
       "1                               Roadworks NE 44th St  47.532370 -122.195986   \n",
       "2  Roadworks 112th Ave/SE 64th St (Lake Washingto...  47.533758 -122.195786   \n",
       "3                      Roadworks SE Maple Valley Hwy  47.483597 -122.195362   \n",
       "4                   Roadworks 44th St/Exit 7 (I-405)  47.553506 -122.192508   \n",
       "5               Roadworks Northup Way (120th Ave NE)  47.626757 -122.180433   \n",
       "\n",
       "   Severity  Delay (s)                 Start                   End  \n",
       "0         2         91  2025-09-01T11:53:30Z  2025-09-01T12:32:00Z  \n",
       "1         0          0  2025-07-21T14:49:00Z                  None  \n",
       "2         0          0  2025-07-21T12:22:30Z                  None  \n",
       "3         0          0  2025-08-13T11:30:00Z                  None  \n",
       "4         0          0  2025-07-04T16:05:30Z                  None  \n",
       "5         0          0  2025-07-29T20:29:18Z                  None  "
      ]
     },
     "execution_count": 11,
     "metadata": {},
     "output_type": "execute_result"
    }
   ],
   "source": [
    "records = []\n",
    "\n",
    "for feature in data.get(\"features\", []):\n",
    "    props = feature[\"properties\"]\n",
    "    coords = feature[\"geometry\"][\"coordinates\"]\n",
    "    records.append({\n",
    "        \"Type\": props[\"incidentType\"],\n",
    "        \"Title\": props[\"title\"],\n",
    "        \"Description\": props[\"description\"],\n",
    "        \"Latitude\": coords[1],\n",
    "        \"Longitude\": coords[0],\n",
    "        \"Severity\": props[\"severity\"],\n",
    "        \"Delay (s)\": props[\"delay\"],\n",
    "        \"Start\": props[\"startTime\"],\n",
    "        \"End\": props[\"endTime\"]\n",
    "    })\n",
    "\n",
    "df = pd.DataFrame(records)\n",
    "df"
   ]
  },
  {
   "cell_type": "code",
   "execution_count": 12,
   "id": "891d6aa9-008e-4aab-8abc-5d6cbc868363",
   "metadata": {},
   "outputs": [
    {
     "name": "stdout",
     "output_type": "stream",
     "text": [
      "✅ Map saved as results/traffic_map.html\n"
     ]
    }
   ],
   "source": [
    "m = folium.Map(location=[47.50, -122.20], zoom_start=12)\n",
    "\n",
    "for feature in data[\"features\"]:\n",
    "    props = feature[\"properties\"]\n",
    "    coords = feature[\"geometry\"][\"coordinates\"]\n",
    "    folium.Marker(\n",
    "        location=[coords[1], coords[0]],\n",
    "        popup=\n",
    "        f\"{props['title']}<br>{props['description']}<br>Severity: {props['severity']}\",\n",
    "        icon=folium.Icon(\n",
    "            color=\"red\" if props[\"severity\"] > 2 else \"orange\")).add_to(m)\n",
    "\n",
    "output_file = os.path.join(RESULTS_DIR, \"traffic_map.html\")\n",
    "m.save(output_file)\n",
    "print(f\"✅ Map saved as {output_file}\")"
   ]
  },
  {
   "cell_type": "code",
   "execution_count": 13,
   "id": "b8b69ae3-d59e-444e-bffb-cc78d4bd08cc",
   "metadata": {},
   "outputs": [
    {
     "data": {
      "text/html": [
       "\n",
       "        <iframe\n",
       "            width=\"1024\"\n",
       "            height=\"860\"\n",
       "            src=\"results/traffic_map.html\"\n",
       "            frameborder=\"0\"\n",
       "            allowfullscreen\n",
       "            \n",
       "        ></iframe>\n",
       "        "
      ],
      "text/plain": [
       "<IPython.lib.display.IFrame at 0x7f00f8bf67d0>"
      ]
     },
     "execution_count": 13,
     "metadata": {},
     "output_type": "execute_result"
    }
   ],
   "source": [
    "IFrame(src=output_file, width=1024, height=860)"
   ]
  },
  {
   "cell_type": "code",
   "execution_count": 14,
   "id": "83a1d02e-9df8-4f00-b0a9-e38fa038a93a",
   "metadata": {},
   "outputs": [
    {
     "data": {
      "text/html": [
       "<a href='results/traffic_map.html' target='_blank'>results/traffic_map.html</a><br>"
      ],
      "text/plain": [
       "/mnt/batch/tasks/shared/LS_root/mounts/clusters/seretkow8/code/Users/seretkow/azure maps/results/traffic_map.html"
      ]
     },
     "execution_count": 14,
     "metadata": {},
     "output_type": "execute_result"
    }
   ],
   "source": [
    "map_link = FileLink(path=output_file)\n",
    "map_link"
   ]
  },
  {
   "cell_type": "code",
   "execution_count": 15,
   "id": "547b00bf-0f33-4222-a5bf-c4f142466606",
   "metadata": {},
   "outputs": [
    {
     "name": "stdout",
     "output_type": "stream",
     "text": [
      "✅ Map saved as results/traffic_map2.html\n"
     ]
    }
   ],
   "source": [
    "m = folium.Map(\n",
    "    location=[47.50, -122.20],\n",
    "    zoom_start=12,\n",
    "    tiles=\n",
    "    \"https://server.arcgisonline.com/ArcGIS/rest/services/World_Imagery/MapServer/tile/{z}/{y}/{x}\",\n",
    "    attr=\"Esri World Imagery\")\n",
    "\n",
    "# Add markers for incidents\n",
    "for feature in data[\"features\"]:\n",
    "    props = feature[\"properties\"]\n",
    "    coords = feature[\"geometry\"][\"coordinates\"]\n",
    "\n",
    "    folium.Marker(\n",
    "        location=[coords[1], coords[0]],\n",
    "        popup=\n",
    "        f\"<b>{props['title']}</b><br>{props['description']}<br>Severity: {props['severity']}\",\n",
    "        icon=folium.Icon(\n",
    "            color=\"red\" if props[\"severity\"] > 2 else \"orange\")).add_to(m)\n",
    "\n",
    "output_file = os.path.join(RESULTS_DIR, \"traffic_map2.html\")\n",
    "m.save(output_file)\n",
    "print(f\"✅ Map saved as {output_file}\")"
   ]
  },
  {
   "cell_type": "code",
   "execution_count": 16,
   "id": "8d6966ae-5625-4119-b262-d804e41be06e",
   "metadata": {},
   "outputs": [
    {
     "data": {
      "text/html": [
       "\n",
       "        <iframe\n",
       "            width=\"1024\"\n",
       "            height=\"860\"\n",
       "            src=\"results/traffic_map2.html\"\n",
       "            frameborder=\"0\"\n",
       "            allowfullscreen\n",
       "            \n",
       "        ></iframe>\n",
       "        "
      ],
      "text/plain": [
       "<IPython.lib.display.IFrame at 0x7f00f8bf81f0>"
      ]
     },
     "execution_count": 16,
     "metadata": {},
     "output_type": "execute_result"
    }
   ],
   "source": [
    "IFrame(src=output_file, width=1024, height=860)"
   ]
  },
  {
   "cell_type": "code",
   "execution_count": 17,
   "id": "efb56f46-2fc0-4e3c-b408-0a30a6086002",
   "metadata": {},
   "outputs": [
    {
     "data": {
      "text/html": [
       "<a href='results/traffic_map2.html' target='_blank'>results/traffic_map2.html</a><br>"
      ],
      "text/plain": [
       "/mnt/batch/tasks/shared/LS_root/mounts/clusters/seretkow8/code/Users/seretkow/azure maps/results/traffic_map2.html"
      ]
     },
     "execution_count": 17,
     "metadata": {},
     "output_type": "execute_result"
    }
   ],
   "source": [
    "map_link = FileLink(path=output_file)\n",
    "map_link"
   ]
  },
  {
   "cell_type": "code",
   "execution_count": 18,
   "id": "b806aee5-1b84-4964-bc54-de90d3a2582f",
   "metadata": {},
   "outputs": [
    {
     "name": "stdout",
     "output_type": "stream",
     "text": [
      "✅ Map saved as results/traffic_map3.html\n"
     ]
    }
   ],
   "source": [
    "m = folium.Map(\n",
    "    location=[47.50, -122.20],\n",
    "    zoom_start=12,\n",
    "    tiles=\n",
    "    \"https://server.arcgisonline.com/ArcGIS/rest/services/World_Topo_Map/MapServer/tile/{z}/{y}/{x}\",\n",
    "    attr=\"Tiles © Esri — Source: Esri, USGS, NOAA\")\n",
    "\n",
    "# Add markers for incidents\n",
    "for feature in data[\"features\"]:\n",
    "    props = feature[\"properties\"]\n",
    "    coords = feature[\"geometry\"][\"coordinates\"]\n",
    "\n",
    "    folium.Marker(\n",
    "        location=[coords[1], coords[0]],\n",
    "        popup=\n",
    "        f\"<b>{props['title']}</b><br>{props['description']}<br>Severity: {props['severity']}\",\n",
    "        icon=folium.Icon(\n",
    "            color=\"red\" if props[\"severity\"] > 2 else \"orange\")).add_to(m)\n",
    "\n",
    "output_file = os.path.join(RESULTS_DIR, \"traffic_map3.html\")\n",
    "m.save(output_file)\n",
    "print(f\"✅ Map saved as {output_file}\")"
   ]
  },
  {
   "cell_type": "code",
   "execution_count": 19,
   "id": "73312a12-150f-423f-b036-a3aa955773e1",
   "metadata": {},
   "outputs": [
    {
     "data": {
      "text/html": [
       "\n",
       "        <iframe\n",
       "            width=\"1024\"\n",
       "            height=\"860\"\n",
       "            src=\"results/traffic_map3.html\"\n",
       "            frameborder=\"0\"\n",
       "            allowfullscreen\n",
       "            \n",
       "        ></iframe>\n",
       "        "
      ],
      "text/plain": [
       "<IPython.lib.display.IFrame at 0x7f00f8c080d0>"
      ]
     },
     "execution_count": 19,
     "metadata": {},
     "output_type": "execute_result"
    }
   ],
   "source": [
    "IFrame(src=output_file, width=1024, height=860)"
   ]
  },
  {
   "cell_type": "code",
   "execution_count": 20,
   "id": "ea38053e-d593-4403-af61-fa00bc223e1c",
   "metadata": {},
   "outputs": [
    {
     "data": {
      "text/html": [
       "<a href='results/traffic_map3.html' target='_blank'>results/traffic_map3.html</a><br>"
      ],
      "text/plain": [
       "/mnt/batch/tasks/shared/LS_root/mounts/clusters/seretkow8/code/Users/seretkow/azure maps/results/traffic_map3.html"
      ]
     },
     "execution_count": 20,
     "metadata": {},
     "output_type": "execute_result"
    }
   ],
   "source": [
    "map_link = FileLink(path=output_file)\n",
    "map_link"
   ]
  },
  {
   "cell_type": "code",
   "execution_count": 21,
   "id": "79ee2e77-1c2f-4382-8c71-5feb106aaa68",
   "metadata": {},
   "outputs": [
    {
     "name": "stdout",
     "output_type": "stream",
     "text": [
      "✅ Map saved as results/traffic_map4.html\n"
     ]
    }
   ],
   "source": [
    "m = folium.Map(\n",
    "    location=[47.50, -122.20],\n",
    "    zoom_start=12,\n",
    "    tiles=\n",
    "    \"https://server.arcgisonline.com/ArcGIS/rest/services/World_Street_Map/MapServer/tile/{z}/{y}/{x}\",\n",
    "    attr=\"Tiles © Esri — Source: Esri, USGS, NOAA\")\n",
    "\n",
    "# Add markers for incidents\n",
    "for feature in data[\"features\"]:\n",
    "    props = feature[\"properties\"]\n",
    "    coords = feature[\"geometry\"][\"coordinates\"]\n",
    "\n",
    "    folium.Marker(\n",
    "        location=[coords[1], coords[0]],\n",
    "        popup=\n",
    "        f\"<b>{props['title']}</b><br>{props['description']}<br>Severity: {props['severity']}\",\n",
    "        icon=folium.Icon(\n",
    "            color=\"red\" if props[\"severity\"] > 2 else \"orange\")).add_to(m)\n",
    "\n",
    "output_file = os.path.join(RESULTS_DIR, \"traffic_map4.html\")\n",
    "m.save(output_file)\n",
    "print(f\"✅ Map saved as {output_file}\")"
   ]
  },
  {
   "cell_type": "code",
   "execution_count": 22,
   "id": "4aa3d321-dc67-49aa-b7d7-542e026befd1",
   "metadata": {},
   "outputs": [
    {
     "data": {
      "text/html": [
       "\n",
       "        <iframe\n",
       "            width=\"1024\"\n",
       "            height=\"860\"\n",
       "            src=\"results/traffic_map4.html\"\n",
       "            frameborder=\"0\"\n",
       "            allowfullscreen\n",
       "            \n",
       "        ></iframe>\n",
       "        "
      ],
      "text/plain": [
       "<IPython.lib.display.IFrame at 0x7f00f8c2be80>"
      ]
     },
     "execution_count": 22,
     "metadata": {},
     "output_type": "execute_result"
    }
   ],
   "source": [
    "IFrame(src=output_file, width=1024, height=860)"
   ]
  },
  {
   "cell_type": "code",
   "execution_count": 23,
   "id": "c96e1434-fe7c-492b-b585-1ee95e07a811",
   "metadata": {},
   "outputs": [
    {
     "data": {
      "text/html": [
       "<a href='results/traffic_map4.html' target='_blank'>results/traffic_map4.html</a><br>"
      ],
      "text/plain": [
       "/mnt/batch/tasks/shared/LS_root/mounts/clusters/seretkow8/code/Users/seretkow/azure maps/results/traffic_map4.html"
      ]
     },
     "execution_count": 23,
     "metadata": {},
     "output_type": "execute_result"
    }
   ],
   "source": [
    "map_link = FileLink(path=output_file)\n",
    "map_link"
   ]
  },
  {
   "cell_type": "code",
   "execution_count": null,
   "id": "8c57279c-3ee6-4352-9992-516ea40205b1",
   "metadata": {},
   "outputs": [],
   "source": []
  }
 ],
 "metadata": {
  "kernelspec": {
   "display_name": "Python 3.10 - SDK v2",
   "language": "python",
   "name": "python310-sdkv2"
  },
  "language_info": {
   "codemirror_mode": {
    "name": "ipython",
    "version": 3
   },
   "file_extension": ".py",
   "mimetype": "text/x-python",
   "name": "python",
   "nbconvert_exporter": "python",
   "pygments_lexer": "ipython3",
   "version": "3.10.14"
  },
  "varInspector": {
   "cols": {
    "lenName": 16,
    "lenType": 16,
    "lenVar": 40
   },
   "kernels_config": {
    "python": {
     "delete_cmd_postfix": "",
     "delete_cmd_prefix": "del ",
     "library": "var_list.py",
     "varRefreshCmd": "print(var_dic_list())"
    },
    "r": {
     "delete_cmd_postfix": ") ",
     "delete_cmd_prefix": "rm(",
     "library": "var_list.r",
     "varRefreshCmd": "cat(var_dic_list()) "
    }
   },
   "types_to_exclude": [
    "module",
    "function",
    "builtin_function_or_method",
    "instance",
    "_Feature"
   ],
   "window_display": false
  }
 },
 "nbformat": 4,
 "nbformat_minor": 5
}
